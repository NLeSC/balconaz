{
 "cells": [
  {
   "cell_type": "markdown",
   "source": [
    "# Data import\n",
    "This notebook contains imports of the data, namely, players, their urls and guesses of other players of the game.\n"
   ],
   "metadata": {
    "collapsed": false
   }
  },
  {
   "cell_type": "code",
   "execution_count": 24,
   "metadata": {
    "collapsed": true
   },
   "outputs": [],
   "source": [
    "import pandas as pd\n",
    "from pathlib import Path"
   ]
  },
  {
   "cell_type": "markdown",
   "source": [
    "NB: Don't forget to run all the scripts prior to this step."
   ],
   "metadata": {
    "collapsed": false
   }
  },
  {
   "cell_type": "code",
   "execution_count": 25,
   "outputs": [],
   "source": [
    "# initialize all dataframes\n",
    "df_raw = pd.DataFrame()\n",
    "df2_raw = pd.DataFrame()"
   ],
   "metadata": {
    "collapsed": false,
    "pycharm": {
     "name": "#%%\n"
    }
   }
  },
  {
   "cell_type": "code",
   "execution_count": 26,
   "outputs": [],
   "source": [
    "# Load all inputs\n",
    "ans_file = Path('../data/answers.csv')\n",
    "gt_file = Path('../data/ground_truth.csv')\n",
    "if ans_file.is_file():\n",
    "    df_raw = pd.read_csv(ans_file,error_bad_lines=False)\n",
    "if gt_file.is_file():\n",
    "    df2_raw = pd.read_csv(gt_file,error_bad_lines=False,skipinitialspace=True).apply(lambda s:s.str.replace('\"', ''))"
   ],
   "metadata": {
    "collapsed": false,
    "pycharm": {
     "name": "#%%\n"
    }
   }
  },
  {
   "cell_type": "code",
   "execution_count": 27,
   "outputs": [
    {
     "data": {
      "text/plain": "  Current URL   Player     Guess\n0       URL11  Player1   Player2\n1       URL11  Player2  Player10\n2       URL11  Player7   Player1\n3       URL11  Player8  Player11\n4       URL11  Player6   Player1",
      "text/html": "<div>\n<style scoped>\n    .dataframe tbody tr th:only-of-type {\n        vertical-align: middle;\n    }\n\n    .dataframe tbody tr th {\n        vertical-align: top;\n    }\n\n    .dataframe thead th {\n        text-align: right;\n    }\n</style>\n<table border=\"1\" class=\"dataframe\">\n  <thead>\n    <tr style=\"text-align: right;\">\n      <th></th>\n      <th>Current URL</th>\n      <th>Player</th>\n      <th>Guess</th>\n    </tr>\n  </thead>\n  <tbody>\n    <tr>\n      <th>0</th>\n      <td>URL11</td>\n      <td>Player1</td>\n      <td>Player2</td>\n    </tr>\n    <tr>\n      <th>1</th>\n      <td>URL11</td>\n      <td>Player2</td>\n      <td>Player10</td>\n    </tr>\n    <tr>\n      <th>2</th>\n      <td>URL11</td>\n      <td>Player7</td>\n      <td>Player1</td>\n    </tr>\n    <tr>\n      <th>3</th>\n      <td>URL11</td>\n      <td>Player8</td>\n      <td>Player11</td>\n    </tr>\n    <tr>\n      <th>4</th>\n      <td>URL11</td>\n      <td>Player6</td>\n      <td>Player1</td>\n    </tr>\n  </tbody>\n</table>\n</div>"
     },
     "execution_count": 27,
     "metadata": {},
     "output_type": "execute_result"
    }
   ],
   "source": [
    "#check\n",
    "#print(df_raw.shape, df2_raw.shape)\n",
    "del df_raw['Timestamp']\n",
    "df_raw.head()\n"
   ],
   "metadata": {
    "collapsed": false,
    "pycharm": {
     "name": "#%%\n"
    }
   }
  },
  {
   "cell_type": "code",
   "execution_count": 28,
   "outputs": [
    {
     "data": {
      "text/plain": "     Player    URL\n0   Player1   URL1\n1   Player2   URL2\n2   Player3   URL3\n3   Player6   URL6\n4  Player10  URL10",
      "text/html": "<div>\n<style scoped>\n    .dataframe tbody tr th:only-of-type {\n        vertical-align: middle;\n    }\n\n    .dataframe tbody tr th {\n        vertical-align: top;\n    }\n\n    .dataframe thead th {\n        text-align: right;\n    }\n</style>\n<table border=\"1\" class=\"dataframe\">\n  <thead>\n    <tr style=\"text-align: right;\">\n      <th></th>\n      <th>Player</th>\n      <th>URL</th>\n    </tr>\n  </thead>\n  <tbody>\n    <tr>\n      <th>0</th>\n      <td>Player1</td>\n      <td>URL1</td>\n    </tr>\n    <tr>\n      <th>1</th>\n      <td>Player2</td>\n      <td>URL2</td>\n    </tr>\n    <tr>\n      <th>2</th>\n      <td>Player3</td>\n      <td>URL3</td>\n    </tr>\n    <tr>\n      <th>3</th>\n      <td>Player6</td>\n      <td>URL6</td>\n    </tr>\n    <tr>\n      <th>4</th>\n      <td>Player10</td>\n      <td>URL10</td>\n    </tr>\n  </tbody>\n</table>\n</div>"
     },
     "execution_count": 28,
     "metadata": {},
     "output_type": "execute_result"
    }
   ],
   "source": [
    "# change column titles\n",
    "df2_raw.rename(columns = {df2_raw.columns[1]:'Player'},inplace=True)\n",
    "df2_raw.rename(columns = {df2_raw.columns[2]:'URL'},inplace=True)\n",
    "del df2_raw['Timestamp']\n",
    "#df2_raw.columns.str.lstrip()\n",
    "df2_raw.head()\n",
    "#df_raw.shape"
   ],
   "metadata": {
    "collapsed": false,
    "pycharm": {
     "name": "#%%\n"
    }
   }
  },
  {
   "cell_type": "code",
   "execution_count": 29,
   "outputs": [],
   "source": [
    "# which urls\n",
    "urls = df_raw['Current URL'].unique()\n",
    "#print(urls.tolist())\n",
    "\n",
    "# which players\n",
    "players = df_raw['Player'].unique()\n",
    "\n",
    "# which guesses\n",
    "guess = df_raw['Guess'].unique()"
   ],
   "metadata": {
    "collapsed": false,
    "pycharm": {
     "name": "#%%\n"
    }
   }
  },
  {
   "cell_type": "code",
   "execution_count": 30,
   "outputs": [
    {
     "data": {
      "text/plain": "    Player     Guess\n0  Player1   Player2\n1  Player2  Player10\n2  Player7   Player1\n3  Player8  Player11\n4  Player6   Player1",
      "text/html": "<div>\n<style scoped>\n    .dataframe tbody tr th:only-of-type {\n        vertical-align: middle;\n    }\n\n    .dataframe tbody tr th {\n        vertical-align: top;\n    }\n\n    .dataframe thead th {\n        text-align: right;\n    }\n</style>\n<table border=\"1\" class=\"dataframe\">\n  <thead>\n    <tr style=\"text-align: right;\">\n      <th></th>\n      <th>Player</th>\n      <th>Guess</th>\n    </tr>\n  </thead>\n  <tbody>\n    <tr>\n      <th>0</th>\n      <td>Player1</td>\n      <td>Player2</td>\n    </tr>\n    <tr>\n      <th>1</th>\n      <td>Player2</td>\n      <td>Player10</td>\n    </tr>\n    <tr>\n      <th>2</th>\n      <td>Player7</td>\n      <td>Player1</td>\n    </tr>\n    <tr>\n      <th>3</th>\n      <td>Player8</td>\n      <td>Player11</td>\n    </tr>\n    <tr>\n      <th>4</th>\n      <td>Player6</td>\n      <td>Player1</td>\n    </tr>\n  </tbody>\n</table>\n</div>"
     },
     "execution_count": 30,
     "metadata": {},
     "output_type": "execute_result"
    }
   ],
   "source": [
    "df_player_guess=df_raw.loc[:,['Player','Guess']]\n",
    "df_player_guess.head()"
   ],
   "metadata": {
    "collapsed": false,
    "pycharm": {
     "name": "#%%\n"
    }
   }
  },
  {
   "cell_type": "code",
   "execution_count": 31,
   "outputs": [
    {
     "data": {
      "text/plain": "  Current URL     Guess\n0       URL11   Player2\n1       URL11  Player10\n2       URL11   Player1\n3       URL11  Player11\n4       URL11   Player1",
      "text/html": "<div>\n<style scoped>\n    .dataframe tbody tr th:only-of-type {\n        vertical-align: middle;\n    }\n\n    .dataframe tbody tr th {\n        vertical-align: top;\n    }\n\n    .dataframe thead th {\n        text-align: right;\n    }\n</style>\n<table border=\"1\" class=\"dataframe\">\n  <thead>\n    <tr style=\"text-align: right;\">\n      <th></th>\n      <th>Current URL</th>\n      <th>Guess</th>\n    </tr>\n  </thead>\n  <tbody>\n    <tr>\n      <th>0</th>\n      <td>URL11</td>\n      <td>Player2</td>\n    </tr>\n    <tr>\n      <th>1</th>\n      <td>URL11</td>\n      <td>Player10</td>\n    </tr>\n    <tr>\n      <th>2</th>\n      <td>URL11</td>\n      <td>Player1</td>\n    </tr>\n    <tr>\n      <th>3</th>\n      <td>URL11</td>\n      <td>Player11</td>\n    </tr>\n    <tr>\n      <th>4</th>\n      <td>URL11</td>\n      <td>Player1</td>\n    </tr>\n  </tbody>\n</table>\n</div>"
     },
     "execution_count": 31,
     "metadata": {},
     "output_type": "execute_result"
    }
   ],
   "source": [
    "# looking at the guesses per URL slice\n",
    "df_url_guess=df_raw.loc[:,['Current URL','Guess']] #only guesses per URL\n",
    "df_url_guess.head()\n"
   ],
   "metadata": {
    "collapsed": false,
    "pycharm": {
     "name": "#%%\n"
    }
   }
  }
 ],
 "metadata": {
  "kernelspec": {
   "display_name": "Python 3",
   "language": "python",
   "name": "python3"
  },
  "language_info": {
   "codemirror_mode": {
    "name": "ipython",
    "version": 2
   },
   "file_extension": ".py",
   "mimetype": "text/x-python",
   "name": "python",
   "nbconvert_exporter": "python",
   "pygments_lexer": "ipython2",
   "version": "2.7.6"
  }
 },
 "nbformat": 4,
 "nbformat_minor": 0
}