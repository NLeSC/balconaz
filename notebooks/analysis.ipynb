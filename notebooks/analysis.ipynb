{
 "cells": [
  {
   "cell_type": "code",
   "execution_count": 15,
   "metadata": {
    "collapsed": true
   },
   "outputs": [],
   "source": [
    "import pandas as pd\n",
    "import os"
   ]
  },
  {
   "cell_type": "code",
   "execution_count": 16,
   "outputs": [
    {
     "data": {
      "text/plain": "                     Timestamp Your Name (visible only for the gamemaster)  \\\n0  2021/01/07 1:27:41 PM GMT+1                                   \"Player1\"   \n1  2021/01/08 3:42:51 PM GMT+1                                   \"Player2\"   \n2  2021/01/09 5:34:03 PM GMT+1                                   \"Player3\"   \n\n  Скопируйте ссылку на видео:  \n0                      \"Url1\"  \n1                      \"Url2\"  \n2                      \"Url3\"  ",
      "text/html": "<div>\n<style scoped>\n    .dataframe tbody tr th:only-of-type {\n        vertical-align: middle;\n    }\n\n    .dataframe tbody tr th {\n        vertical-align: top;\n    }\n\n    .dataframe thead th {\n        text-align: right;\n    }\n</style>\n<table border=\"1\" class=\"dataframe\">\n  <thead>\n    <tr style=\"text-align: right;\">\n      <th></th>\n      <th>Timestamp</th>\n      <th>Your Name (visible only for the gamemaster)</th>\n      <th>Скопируйте ссылку на видео:</th>\n    </tr>\n  </thead>\n  <tbody>\n    <tr>\n      <th>0</th>\n      <td>2021/01/07 1:27:41 PM GMT+1</td>\n      <td>\"Player1\"</td>\n      <td>\"Url1\"</td>\n    </tr>\n    <tr>\n      <th>1</th>\n      <td>2021/01/08 3:42:51 PM GMT+1</td>\n      <td>\"Player2\"</td>\n      <td>\"Url2\"</td>\n    </tr>\n    <tr>\n      <th>2</th>\n      <td>2021/01/09 5:34:03 PM GMT+1</td>\n      <td>\"Player3\"</td>\n      <td>\"Url3\"</td>\n    </tr>\n  </tbody>\n</table>\n</div>"
     },
     "execution_count": 16,
     "metadata": {},
     "output_type": "execute_result"
    }
   ],
   "source": [
    "# Load all inputs\n",
    "df_raw = pd.read_csv('../data/anonymized_data.csv',error_bad_lines=False)\n",
    "df_raw"
   ],
   "metadata": {
    "collapsed": false,
    "pycharm": {
     "name": "#%%\n"
    }
   }
  },
  {
   "cell_type": "code",
   "execution_count": 17,
   "outputs": [
    {
     "data": {
      "text/plain": "                     Timestamp Your Name (visible only for the gamemaster)  \\\n0  2021/01/07 1:27:41 PM GMT+1                                   \"Player1\"   \n1  2021/01/08 3:42:51 PM GMT+1                                   \"Player2\"   \n2  2021/01/09 5:34:03 PM GMT+1                                   \"Player3\"   \n\n  Скопируйте ссылку на видео:  \n0                      \"Url1\"  \n1                      \"Url2\"  \n2                      \"Url3\"  ",
      "text/html": "<div>\n<style scoped>\n    .dataframe tbody tr th:only-of-type {\n        vertical-align: middle;\n    }\n\n    .dataframe tbody tr th {\n        vertical-align: top;\n    }\n\n    .dataframe thead th {\n        text-align: right;\n    }\n</style>\n<table border=\"1\" class=\"dataframe\">\n  <thead>\n    <tr style=\"text-align: right;\">\n      <th></th>\n      <th>Timestamp</th>\n      <th>Your Name (visible only for the gamemaster)</th>\n      <th>Скопируйте ссылку на видео:</th>\n    </tr>\n  </thead>\n  <tbody>\n    <tr>\n      <th>0</th>\n      <td>2021/01/07 1:27:41 PM GMT+1</td>\n      <td>\"Player1\"</td>\n      <td>\"Url1\"</td>\n    </tr>\n    <tr>\n      <th>1</th>\n      <td>2021/01/08 3:42:51 PM GMT+1</td>\n      <td>\"Player2\"</td>\n      <td>\"Url2\"</td>\n    </tr>\n    <tr>\n      <th>2</th>\n      <td>2021/01/09 5:34:03 PM GMT+1</td>\n      <td>\"Player3\"</td>\n      <td>\"Url3\"</td>\n    </tr>\n  </tbody>\n</table>\n</div>"
     },
     "execution_count": 17,
     "metadata": {},
     "output_type": "execute_result"
    }
   ],
   "source": [
    "df_raw.head()"
   ],
   "metadata": {
    "collapsed": false,
    "pycharm": {
     "name": "#%%\n"
    }
   }
  }
 ],
 "metadata": {
  "kernelspec": {
   "display_name": "Python 3",
   "language": "python",
   "name": "python3"
  },
  "language_info": {
   "codemirror_mode": {
    "name": "ipython",
    "version": 2
   },
   "file_extension": ".py",
   "mimetype": "text/x-python",
   "name": "python",
   "nbconvert_exporter": "python",
   "pygments_lexer": "ipython2",
   "version": "2.7.6"
  }
 },
 "nbformat": 4,
 "nbformat_minor": 0
}