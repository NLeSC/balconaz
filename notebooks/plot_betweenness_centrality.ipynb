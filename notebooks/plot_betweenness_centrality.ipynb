{
 "cells": [
  {
   "cell_type": "code",
   "execution_count": 1,
   "metadata": {
    "collapsed": false
   },
   "outputs": [],
   "source": [
    "%matplotlib inline"
   ]
  },
  {
   "cell_type": "markdown",
   "metadata": {},
   "source": [
    "\n",
    "# Betweeness Centrality\n",
    "\n",
    "Betweenness centrality measures\n",
    "Code source: https://networkx.org/documentation/latest/auto_examples/algorithms/plot_betweenness_centrality.html\n",
    "Multigraph is not implemented for the connected components, so we use undirected graph."
   ]
  },
  {
   "cell_type": "code",
   "execution_count": 3,
   "metadata": {
    "collapsed": false
   },
   "outputs": [],
   "source": [
    "import networkx as nx\n",
    "import matplotlib.pyplot as plt\n",
    "import pandas as pd\n",
    "%run ./prepare_data.ipynb"
   ]
  },
  {
   "cell_type": "code",
   "execution_count": 4,
   "metadata": {
    "collapsed": false,
    "pycharm": {
     "name": "#%%\n"
    }
   },
   "outputs": [
    {
     "name": "stderr",
     "output_type": "stream",
     "text": [
      "ERROR:root:Internal Python error in the inspect module.\n",
      "Below is the traceback from this internal error.\n",
      "\n"
     ]
    },
    {
     "name": "stdout",
     "output_type": "stream",
     "text": [
      "Traceback (most recent call last):\n",
      "  File \"/home/rena/soft/anaconda3/lib/python3.6/site-packages/IPython/core/interactiveshell.py\", line 2910, in run_code\n",
      "    exec(code_obj, self.user_global_ns, self.user_ns)\n",
      "  File \"<ipython-input-4-50f425a0edb2>\", line 18, in <module>\n",
      "    pos = nx.spring_layout(H, k=0.15, seed=4572321)\n",
      "TypeError: fruchterman_reingold_layout() got an unexpected keyword argument 'seed'\n",
      "\n",
      "During handling of the above exception, another exception occurred:\n",
      "\n",
      "Traceback (most recent call last):\n",
      "  File \"/home/rena/soft/anaconda3/lib/python3.6/site-packages/IPython/core/interactiveshell.py\", line 1828, in showtraceback\n",
      "    stb = value._render_traceback_()\n",
      "AttributeError: 'TypeError' object has no attribute '_render_traceback_'\n",
      "\n",
      "During handling of the above exception, another exception occurred:\n",
      "\n",
      "Traceback (most recent call last):\n",
      "  File \"/home/rena/soft/anaconda3/lib/python3.6/site-packages/IPython/core/ultratb.py\", line 1090, in get_records\n",
      "    return _fixed_getinnerframes(etb, number_of_lines_of_context, tb_offset)\n",
      "  File \"/home/rena/soft/anaconda3/lib/python3.6/site-packages/IPython/core/ultratb.py\", line 311, in wrapped\n",
      "    return f(*args, **kwargs)\n",
      "  File \"/home/rena/soft/anaconda3/lib/python3.6/site-packages/IPython/core/ultratb.py\", line 345, in _fixed_getinnerframes\n",
      "    records = fix_frame_records_filenames(inspect.getinnerframes(etb, context))\n",
      "  File \"/home/rena/soft/anaconda3/lib/python3.6/inspect.py\", line 1490, in getinnerframes\n",
      "    frameinfo = (tb.tb_frame,) + getframeinfo(tb, context)\n",
      "  File \"/home/rena/soft/anaconda3/lib/python3.6/inspect.py\", line 1448, in getframeinfo\n",
      "    filename = getsourcefile(frame) or getfile(frame)\n",
      "  File \"/home/rena/soft/anaconda3/lib/python3.6/inspect.py\", line 696, in getsourcefile\n",
      "    if getattr(getmodule(object, filename), '__loader__', None) is not None:\n",
      "  File \"/home/rena/soft/anaconda3/lib/python3.6/inspect.py\", line 733, in getmodule\n",
      "    if ismodule(module) and hasattr(module, '__file__'):\n",
      "  File \"/home/rena/soft/anaconda3/lib/python3.6/site-packages/py/_vendored_packages/apipkg.py\", line 195, in __getattribute__\n",
      "    return getattr(getmod(), name)\n",
      "  File \"/home/rena/soft/anaconda3/lib/python3.6/site-packages/py/_vendored_packages/apipkg.py\", line 179, in getmod\n",
      "    x = importobj(modpath, None)\n",
      "  File \"/home/rena/soft/anaconda3/lib/python3.6/site-packages/py/_vendored_packages/apipkg.py\", line 69, in importobj\n",
      "    module = __import__(modpath, None, None, ['__doc__'])\n",
      "  File \"/home/rena/soft/anaconda3/lib/python3.6/site-packages/pytest.py\", line 13, in <module>\n",
      "    from _pytest.fixtures import fixture, yield_fixture\n",
      "  File \"/home/rena/soft/anaconda3/lib/python3.6/site-packages/_pytest/fixtures.py\", line 842, in <module>\n",
      "    class FixtureFunctionMarker(object):\n",
      "  File \"/home/rena/soft/anaconda3/lib/python3.6/site-packages/_pytest/fixtures.py\", line 844, in FixtureFunctionMarker\n",
      "    params = attr.ib(convert=attr.converters.optional(tuple))\n",
      "TypeError: attrib() got an unexpected keyword argument 'convert'\n"
     ]
    },
    {
     "ename": "TypeError",
     "evalue": "fruchterman_reingold_layout() got an unexpected keyword argument 'seed'",
     "output_type": "error",
     "traceback": [
      "\u001b[0;31m---------------------------------------------------------------------------\u001b[0m"
     ]
    },
    {
     "data": {
      "image/png": "[encoded data removed]",
      "text/plain": [
       "<matplotlib.figure.Figure at 0x7f547abc5d30>"
      ]
     },
     "metadata": {},
     "output_type": "display_data"
    }
   ],
   "source": [
    "G = nx.from_pandas_edgelist(df_raw, 'Player', 'Guess',)\n",
    "\n",
    "\n",
    "# largest connected component\n",
    "components = nx.connected_components(G)\n",
    "largest_component = max(components, key=len)\n",
    "H = G.subgraph(largest_component)\n",
    "\n",
    "# compute centrality\n",
    "centrality = nx.betweenness_centrality(H, k=10, endpoints=True)\n",
    "\n",
    "# compute community structure\n",
    "lpc = nx.community.label_propagation_communities(H)\n",
    "community_index = {n: i for i, com in enumerate(lpc) for n in com}\n",
    "\n",
    "#### draw graph ####\n",
    "fig, ax = plt.subplots(figsize=(20, 15))\n",
    "pos = nx.spring_layout(H, k=0.15, seed=4572321)\n",
    "node_color = [community_index[n] for n in H]\n",
    "node_size = [v * 20000 for v in centrality.values()]\n",
    "nx.draw_networkx(\n",
    "    H,\n",
    "    pos=pos,\n",
    "    with_labels=True,\n",
    "    node_color=node_color,\n",
    "    node_size=node_size,\n",
    "    arrowsize = 20,\n",
    "    font_size = 24,\n",
    "    font_weight = \"bold\",\n",
    "    #edge_color=\"gainsboro\",\n",
    "    alpha=0.4,\n",
    ")\n",
    "\n",
    "# Title/legend\n",
    "font = {\"color\": \"k\", \"fontweight\": \"bold\", \"fontsize\": 20}\n",
    "ax.set_title(\"Guesses Network\", font)\n",
    "# Change font color for legend\n",
    "font[\"color\"] = \"r\"\n",
    "\n",
    "ax.text(\n",
    "    0.90,\n",
    "    0.10,\n",
    "    \"node color = community structure\",\n",
    "    horizontalalignment=\"center\",\n",
    "    transform=ax.transAxes,\n",
    "    fontdict=font,\n",
    ")\n",
    "ax.text(\n",
    "    0.90,\n",
    "    0.06,\n",
    "    \"node size = betweeness centrality\",\n",
    "    horizontalalignment=\"center\",\n",
    "    transform=ax.transAxes,\n",
    "    fontdict=font,\n",
    ")\n",
    "\n",
    "# Resize figure for label readibility\n",
    "ax.margins(0.1, 0.05)\n",
    "fig.tight_layout()\n",
    "plt.axis(\"off\")\n",
    "plt.show()"
   ]
  },
  {
   "cell_type": "code",
   "execution_count": null,
   "metadata": {},
   "outputs": [],
   "source": []
  }
 ],
 "metadata": {
  "kernelspec": {
   "display_name": "Python 3",
   "language": "python",
   "name": "python3"
  },
  "language_info": {
   "codemirror_mode": {
    "name": "ipython",
    "version": 3
   },
   "file_extension": ".py",
   "mimetype": "text/x-python",
   "name": "python",
   "nbconvert_exporter": "python",
   "pygments_lexer": "ipython3",
   "version": "3.6.8"
  }
 },
 "nbformat": 4,
 "nbformat_minor": 2
}
