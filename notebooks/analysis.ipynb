{
 "cells": [
  {
   "cell_type": "markdown",
   "source": [
    "# Plots and analysis\n",
    "This notebook contains plots and other code to explore guesses of the players of the game."
   ],
   "metadata": {
    "collapsed": false
   }
  },
  {
   "cell_type": "code",
   "execution_count": 1,
   "metadata": {
    "collapsed": true
   },
   "outputs": [],
   "source": [
    "import math\n",
    "import pandas as pd\n",
    "import os\n",
    "import networkx as nx\n",
    "import matplotlib.pyplot as plt\n",
    "import numpy as np\n"
   ]
  },
  {
   "cell_type": "markdown",
   "source": [
    "## Data\n",
    "\n",
    "NB: Don't forget to run all the scripts prior to this step."
   ],
   "metadata": {
    "collapsed": false,
    "pycharm": {
     "name": "#%% md\n"
    }
   }
  },
  {
   "cell_type": "code",
   "execution_count": 2,
   "outputs": [],
   "source": [
    "# Load all inputs\n",
    "df_raw = pd.read_csv('../data/answers.csv',error_bad_lines=False)\n",
    "df2_raw = pd.read_csv('../data/ground_truth.csv',error_bad_lines=False)"
   ],
   "metadata": {
    "collapsed": false,
    "pycharm": {
     "name": "#%%\n"
    }
   }
  },
  {
   "cell_type": "code",
   "execution_count": 3,
   "outputs": [
    {
     "data": {
      "text/plain": "                      Timestamp Current URL   Player     Guess\n0  2021/01/14 11:20:26 PM GMT+1       URL11  Player1   Player2\n1  2021/01/14 11:21:25 PM GMT+1       URL11  Player2  Player10\n2  2021/01/14 11:21:45 PM GMT+1       URL11  Player7   Player1\n3  2021/01/14 11:22:01 PM GMT+1       URL11  Player8  Player11\n4  2021/01/14 11:22:21 PM GMT+1       URL11  Player6   Player1",
      "text/html": "<div>\n<style scoped>\n    .dataframe tbody tr th:only-of-type {\n        vertical-align: middle;\n    }\n\n    .dataframe tbody tr th {\n        vertical-align: top;\n    }\n\n    .dataframe thead th {\n        text-align: right;\n    }\n</style>\n<table border=\"1\" class=\"dataframe\">\n  <thead>\n    <tr style=\"text-align: right;\">\n      <th></th>\n      <th>Timestamp</th>\n      <th>Current URL</th>\n      <th>Player</th>\n      <th>Guess</th>\n    </tr>\n  </thead>\n  <tbody>\n    <tr>\n      <th>0</th>\n      <td>2021/01/14 11:20:26 PM GMT+1</td>\n      <td>URL11</td>\n      <td>Player1</td>\n      <td>Player2</td>\n    </tr>\n    <tr>\n      <th>1</th>\n      <td>2021/01/14 11:21:25 PM GMT+1</td>\n      <td>URL11</td>\n      <td>Player2</td>\n      <td>Player10</td>\n    </tr>\n    <tr>\n      <th>2</th>\n      <td>2021/01/14 11:21:45 PM GMT+1</td>\n      <td>URL11</td>\n      <td>Player7</td>\n      <td>Player1</td>\n    </tr>\n    <tr>\n      <th>3</th>\n      <td>2021/01/14 11:22:01 PM GMT+1</td>\n      <td>URL11</td>\n      <td>Player8</td>\n      <td>Player11</td>\n    </tr>\n    <tr>\n      <th>4</th>\n      <td>2021/01/14 11:22:21 PM GMT+1</td>\n      <td>URL11</td>\n      <td>Player6</td>\n      <td>Player1</td>\n    </tr>\n  </tbody>\n</table>\n</div>"
     },
     "execution_count": 3,
     "metadata": {},
     "output_type": "execute_result"
    }
   ],
   "source": [
    "#check\n",
    "#print(df_raw.shape, df2_raw.shape)\n",
    "df_raw.head()\n"
   ],
   "metadata": {
    "collapsed": false,
    "pycharm": {
     "name": "#%%\n"
    }
   }
  },
  {
   "cell_type": "code",
   "execution_count": 11,
   "outputs": [
    {
     "data": {
      "text/plain": "                     Timestamp       Player       URL\n0  2021/01/07 1:27:41 PM GMT+1    \"Player1\"    \"URL1\"\n1  2021/01/08 3:42:51 PM GMT+1    \"Player2\"    \"URL2\"\n2  2021/01/09 5:34:03 PM GMT+1    \"Player3\"    \"URL3\"\n3  2021/01/10 7:34:16 PM GMT+1    \"Player6\"    \"URL6\"\n4  2021/01/11 8:24:53 PM GMT+1   \"Player10\"   \"URL10\"",
      "text/html": "<div>\n<style scoped>\n    .dataframe tbody tr th:only-of-type {\n        vertical-align: middle;\n    }\n\n    .dataframe tbody tr th {\n        vertical-align: top;\n    }\n\n    .dataframe thead th {\n        text-align: right;\n    }\n</style>\n<table border=\"1\" class=\"dataframe\">\n  <thead>\n    <tr style=\"text-align: right;\">\n      <th></th>\n      <th>Timestamp</th>\n      <th>Player</th>\n      <th>URL</th>\n    </tr>\n  </thead>\n  <tbody>\n    <tr>\n      <th>0</th>\n      <td>2021/01/07 1:27:41 PM GMT+1</td>\n      <td>\"Player1\"</td>\n      <td>\"URL1\"</td>\n    </tr>\n    <tr>\n      <th>1</th>\n      <td>2021/01/08 3:42:51 PM GMT+1</td>\n      <td>\"Player2\"</td>\n      <td>\"URL2\"</td>\n    </tr>\n    <tr>\n      <th>2</th>\n      <td>2021/01/09 5:34:03 PM GMT+1</td>\n      <td>\"Player3\"</td>\n      <td>\"URL3\"</td>\n    </tr>\n    <tr>\n      <th>3</th>\n      <td>2021/01/10 7:34:16 PM GMT+1</td>\n      <td>\"Player6\"</td>\n      <td>\"URL6\"</td>\n    </tr>\n    <tr>\n      <th>4</th>\n      <td>2021/01/11 8:24:53 PM GMT+1</td>\n      <td>\"Player10\"</td>\n      <td>\"URL10\"</td>\n    </tr>\n  </tbody>\n</table>\n</div>"
     },
     "execution_count": 11,
     "metadata": {},
     "output_type": "execute_result"
    }
   ],
   "source": [
    "# change column titles\n",
    "df2_raw.rename(columns = {df2_raw.columns[1]:'Player'},inplace=True)\n",
    "df2_raw.rename(columns = {df2_raw.columns[2]:'URL'},inplace=True)\n",
    "df2_raw.head()\n",
    "#df_raw.shape"
   ],
   "metadata": {
    "collapsed": false,
    "pycharm": {
     "name": "#%%\n"
    }
   }
  },
  {
   "cell_type": "code",
   "execution_count": null,
   "outputs": [],
   "source": [
    "# which urls\n",
    "urls = df_raw['Current URL'].unique()\n",
    "print(urls.tolist())\n",
    "\n",
    "# which players\n",
    "players = df_raw['Player'].unique()\n",
    "\n",
    "# which guesses\n",
    "guess = df_raw['Guess'].unique()"
   ],
   "metadata": {
    "collapsed": false,
    "pycharm": {
     "name": "#%%\n"
    }
   }
  },
  {
   "cell_type": "code",
   "execution_count": null,
   "outputs": [],
   "source": [
    "df_player_guess=df_raw.loc[:,['Player','Guess']]\n",
    "df_player_guess.head()"
   ],
   "metadata": {
    "collapsed": false,
    "pycharm": {
     "name": "#%%\n"
    }
   }
  },
  {
   "cell_type": "code",
   "execution_count": null,
   "outputs": [],
   "source": [
    "# looking at the guesses per URL slice\n",
    "df_url_guess=df_raw.loc[:,['Current URL','Guess']] #only guesses per URL\n",
    "df_url_guess.head()\n",
    "\n"
   ],
   "metadata": {
    "collapsed": false,
    "pycharm": {
     "name": "#%%\n"
    }
   }
  },
  {
   "cell_type": "markdown",
   "source": [
    "# Statistics\n",
    "### Most popular and least votes"
   ],
   "metadata": {
    "collapsed": false
   }
  },
  {
   "cell_type": "code",
   "execution_count": null,
   "outputs": [],
   "source": [
    "# code from https://towardsdatascience.com/from-dataframe-to-network-graph-bbb35c8ab675\n",
    "# function creating leaderboard\n",
    "\n",
    "def create_leaderboard(df,col_name, tab_header):\n",
    "    leaderboard = df[col_name].value_counts(ascending=True)\n",
    "    s = pd.Series(leaderboard, name=tab_header)\n",
    "    df2 = s.to_frame().sort_values(tab_header, ascending=False)\n",
    "    return df2"
   ],
   "metadata": {
    "collapsed": false,
    "pycharm": {
     "name": "#%%\n"
    }
   }
  },
  {
   "cell_type": "code",
   "execution_count": null,
   "outputs": [],
   "source": [
    "# total number of votes per link\n",
    "votes_links = create_leaderboard(df_raw,'Current URL','votes')\n",
    "votes_links.plot.bar(y='votes'); # plot histogram\n"
   ],
   "metadata": {
    "collapsed": false,
    "pycharm": {
     "name": "#%%\n"
    }
   }
  },
  {
   "cell_type": "code",
   "execution_count": null,
   "outputs": [],
   "source": [
    "# total votes for each player\n",
    "\n",
    "total_votes = create_leaderboard(df_raw,'Guess','votes')\n",
    "total_votes.plot.bar(y='votes'); # plot histogram"
   ],
   "metadata": {
    "collapsed": false,
    "pycharm": {
     "name": "#%%\n"
    }
   }
  },
  {
   "cell_type": "code",
   "execution_count": null,
   "outputs": [],
   "source": [
    "# stats of guesses per URL\n",
    "\n",
    "guess_stats = df_raw.groupby(by=['Current URL', 'Guess'])['Guess'].count()\n",
    "s = pd.Series(guess_stats, name=\"votes\")\n",
    "df_guess = s.to_frame().sort_values(\"votes\", ascending=False).reset_index()\n",
    "guess_stats.plot.bar(x='Current URL'); # plot histogram"
   ],
   "metadata": {
    "collapsed": false,
    "pycharm": {
     "name": "#%%\n"
    }
   }
  },
  {
   "cell_type": "code",
   "execution_count": null,
   "outputs": [],
   "source": [
    "# combined pie chart\n",
    "guess_stats.plot.pie(subplots=True,y='votes',figsize=(6, 6),autopct='%1.1f%%',shadow = True);"
   ],
   "metadata": {
    "collapsed": false,
    "pycharm": {
     "name": "#%%\n"
    }
   }
  },
  {
   "cell_type": "code",
   "execution_count": null,
   "outputs": [],
   "source": [
    "print(df_guess.columns)"
   ],
   "metadata": {
    "collapsed": false,
    "pycharm": {
     "name": "#%%\n"
    }
   }
  },
  {
   "cell_type": "code",
   "execution_count": null,
   "outputs": [],
   "source": [
    "df = df_guess.loc[df_guess['Current URL'] == 'URL6']\n",
    "df.loc[:,['Guess','votes']]"
   ],
   "metadata": {
    "collapsed": false,
    "pycharm": {
     "name": "#%%\n"
    }
   }
  },
  {
   "cell_type": "code",
   "execution_count": null,
   "outputs": [],
   "source": [
    "#pie chart per URL\n",
    "\n",
    "fig, axes = plt.subplots(len(urls),1,figsize=(30, 20)) #ncols=len(urls)#,)\n",
    "#for i,ax in enumerate(axes):\n",
    "for i,ax in enumerate(axes):\n",
    "    url = urls[i]\n",
    "    temp_df = df_guess.loc[df_guess['Current URL'] == url]\n",
    "    temp_df.loc[:,['Guess','votes']].plot.pie(ax=ax,subplots=True,labels = temp_df['Guess'], y='votes', autopct='%1.1f%%',shadow = True);\n",
    "    ax.get_legend().remove()\n",
    "plt.show()\n"
   ],
   "metadata": {
    "collapsed": false,
    "pycharm": {
     "name": "#%%\n"
    }
   }
  },
  {
   "cell_type": "markdown",
   "source": [
    "# Appendix: Graphs"
   ],
   "metadata": {
    "collapsed": false
   }
  },
  {
   "cell_type": "code",
   "execution_count": null,
   "outputs": [],
   "source": [
    "# first dumb graph, ignores weights\n",
    "G = nx.from_pandas_edgelist(df_raw, 'Player', 'Guess',)\n",
    "\n",
    "# and now we try multigraph\n",
    "M = nx.from_pandas_edgelist(df_raw, 'Player', 'Guess', create_using=nx.MultiDiGraph())\n"
   ],
   "metadata": {
    "collapsed": false,
    "pycharm": {
     "name": "#%%\n"
    }
   }
  },
  {
   "cell_type": "code",
   "execution_count": null,
   "outputs": [],
   "source": [
    "# plot spacy multigraph of who voted for whom\n",
    "plt.figure(figsize=(10, 8))\n",
    "nx.draw_shell(M, with_labels=True)"
   ],
   "metadata": {
    "collapsed": false,
    "pycharm": {
     "name": "#%%\n"
    }
   }
  },
  {
   "cell_type": "code",
   "execution_count": null,
   "outputs": [],
   "source": [
    "# a bit more dense\n",
    "nx.draw_networkx(M)"
   ],
   "metadata": {
    "collapsed": false,
    "pycharm": {
     "name": "#%%\n"
    }
   }
  },
  {
   "cell_type": "code",
   "execution_count": null,
   "outputs": [],
   "source": [
    "# another look via degree sequences\n",
    "# source: from networkx gallery\n",
    "\n",
    "degree_dist = sorted([vote for player, vote in G.degree()], reverse=True)\n",
    "dmax = max(degree_dist)\n",
    "\n",
    "plt.plot(degree_dist, \"b-\", marker=\"o\")\n",
    "plt.title(\"Degree rank plot\")\n",
    "plt.ylabel(\"degree\")\n",
    "plt.xlabel(\"rank\")\n",
    "\n",
    "# draw graph in inset\n",
    "# not implemented for directed graph?\n",
    "plt.axes([0.5, 0.5, 0.35, 0.35])\n",
    "g_cc = G.subgraph(sorted(nx.connected_components(G), key=len, reverse=False)[0])\n",
    "pos = nx.spring_layout(g_cc)\n",
    "plt.axis(\"off\")\n",
    "nx.draw_networkx_nodes(g_cc, pos, node_size=40, node_color=\"green\")\n",
    "nx.draw_networkx_edges(g_cc, pos, arrowstyle=\"->\", arrowsize=10, alpha=0.4)"
   ],
   "metadata": {
    "collapsed": false,
    "pycharm": {
     "name": "#%%\n"
    }
   }
  }
 ],
 "metadata": {
  "kernelspec": {
   "display_name": "Python 3",
   "language": "python",
   "name": "python3"
  },
  "language_info": {
   "codemirror_mode": {
    "name": "ipython",
    "version": 2
   },
   "file_extension": ".py",
   "mimetype": "text/x-python",
   "name": "python",
   "nbconvert_exporter": "python",
   "pygments_lexer": "ipython2",
   "version": "2.7.6"
  }
 },
 "nbformat": 4,
 "nbformat_minor": 0
}