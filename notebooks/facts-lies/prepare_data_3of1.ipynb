{
 "cells": [
  {
   "cell_type": "code",
   "execution_count": 110,
   "metadata": {
    "collapsed": true
   },
   "outputs": [],
   "source": []
  },
  {
   "cell_type": "markdown",
   "source": [
    "# Data import\n",
    "This notebook contains imports of the data, namely, players, their urls and guesses of other players of the game.\n"
   ],
   "metadata": {
    "collapsed": false
   }
  },
  {
   "cell_type": "code",
   "execution_count": 111,
   "outputs": [],
   "source": [
    "import pandas as pd\n",
    "from pathlib import Path"
   ],
   "metadata": {
    "collapsed": false,
    "pycharm": {
     "name": "#%%\n"
    }
   }
  },
  {
   "cell_type": "markdown",
   "source": [
    "NB: Don't forget to run all the scripts prior to this step."
   ],
   "metadata": {
    "collapsed": false
   }
  },
  {
   "cell_type": "code",
   "execution_count": 112,
   "outputs": [],
   "source": [
    "# initialize all dataframes\n",
    "alldf_raw = pd.DataFrame()\n",
    "df_raw = pd.DataFrame()\n",
    "df2_raw = pd.DataFrame()"
   ],
   "metadata": {
    "collapsed": false,
    "pycharm": {
     "name": "#%%\n"
    }
   }
  },
  {
   "cell_type": "code",
   "execution_count": 113,
   "outputs": [],
   "source": [
    "# Load all inputs\n",
    "\n",
    "ans_file = Path('../data/input-gt.csv')\n",
    "\n",
    "if ans_file.is_file():\n",
    "    alldf_raw = pd.read_csv(ans_file,error_bad_lines=False)\n"
   ],
   "metadata": {
    "collapsed": false,
    "pycharm": {
     "name": "#%%\n"
    }
   }
  },
  {
   "cell_type": "code",
   "execution_count": 114,
   "outputs": [
    {
     "data": {
      "text/plain": "  Чьи факты? Кто угадывает?  \\\n0        Али            Али   \n1        Али         Рена Б   \n2        Али        Алескер   \n3        Али           Эмин   \n4        Али          Ирада   \n\n  Какой из фактов правда? Отмечать только один ответ.  \n0                                             Факт 2   \n1                                             Факт 1   \n2                                             Факт 3   \n3                                             Факт 2   \n4                                             Факт 1   ",
      "text/html": "<div>\n<style scoped>\n    .dataframe tbody tr th:only-of-type {\n        vertical-align: middle;\n    }\n\n    .dataframe tbody tr th {\n        vertical-align: top;\n    }\n\n    .dataframe thead th {\n        text-align: right;\n    }\n</style>\n<table border=\"1\" class=\"dataframe\">\n  <thead>\n    <tr style=\"text-align: right;\">\n      <th></th>\n      <th>Чьи факты?</th>\n      <th>Кто угадывает?</th>\n      <th>Какой из фактов правда? Отмечать только один ответ.</th>\n    </tr>\n  </thead>\n  <tbody>\n    <tr>\n      <th>0</th>\n      <td>Али</td>\n      <td>Али</td>\n      <td>Факт 2</td>\n    </tr>\n    <tr>\n      <th>1</th>\n      <td>Али</td>\n      <td>Рена Б</td>\n      <td>Факт 1</td>\n    </tr>\n    <tr>\n      <th>2</th>\n      <td>Али</td>\n      <td>Алескер</td>\n      <td>Факт 3</td>\n    </tr>\n    <tr>\n      <th>3</th>\n      <td>Али</td>\n      <td>Эмин</td>\n      <td>Факт 2</td>\n    </tr>\n    <tr>\n      <th>4</th>\n      <td>Али</td>\n      <td>Ирада</td>\n      <td>Факт 1</td>\n    </tr>\n  </tbody>\n</table>\n</div>"
     },
     "execution_count": 114,
     "metadata": {},
     "output_type": "execute_result"
    }
   ],
   "source": [
    "\n",
    "#check\n",
    "#print(df_raw.shape, df2_raw.shape)\n",
    "del alldf_raw['Timestamp']\n",
    "alldf_raw.head()"
   ],
   "metadata": {
    "collapsed": false,
    "pycharm": {
     "name": "#%%\n"
    }
   }
  },
  {
   "cell_type": "code",
   "execution_count": 115,
   "outputs": [
    {
     "data": {
      "text/plain": "  Owner   Player   Guess\n0   Али      Али  Факт 2\n1   Али   Рена Б  Факт 1\n2   Али  Алескер  Факт 3\n3   Али     Эмин  Факт 2\n4   Али    Ирада  Факт 1",
      "text/html": "<div>\n<style scoped>\n    .dataframe tbody tr th:only-of-type {\n        vertical-align: middle;\n    }\n\n    .dataframe tbody tr th {\n        vertical-align: top;\n    }\n\n    .dataframe thead th {\n        text-align: right;\n    }\n</style>\n<table border=\"1\" class=\"dataframe\">\n  <thead>\n    <tr style=\"text-align: right;\">\n      <th></th>\n      <th>Owner</th>\n      <th>Player</th>\n      <th>Guess</th>\n    </tr>\n  </thead>\n  <tbody>\n    <tr>\n      <th>0</th>\n      <td>Али</td>\n      <td>Али</td>\n      <td>Факт 2</td>\n    </tr>\n    <tr>\n      <th>1</th>\n      <td>Али</td>\n      <td>Рена Б</td>\n      <td>Факт 1</td>\n    </tr>\n    <tr>\n      <th>2</th>\n      <td>Али</td>\n      <td>Алескер</td>\n      <td>Факт 3</td>\n    </tr>\n    <tr>\n      <th>3</th>\n      <td>Али</td>\n      <td>Эмин</td>\n      <td>Факт 2</td>\n    </tr>\n    <tr>\n      <th>4</th>\n      <td>Али</td>\n      <td>Ирада</td>\n      <td>Факт 1</td>\n    </tr>\n  </tbody>\n</table>\n</div>"
     },
     "execution_count": 115,
     "metadata": {},
     "output_type": "execute_result"
    }
   ],
   "source": [
    "# change column titles\n",
    "alldf_raw.rename(columns = {alldf_raw.columns[0]:'Owner'},inplace=True)\n",
    "alldf_raw.rename(columns = {alldf_raw.columns[1]:'Player'},inplace=True)\n",
    "alldf_raw.rename(columns = {alldf_raw.columns[2]:'Guess'},inplace=True)\n",
    "\n",
    "alldf_raw.head()"
   ],
   "metadata": {
    "collapsed": false,
    "pycharm": {
     "name": "#%%\n"
    }
   }
  },
  {
   "cell_type": "code",
   "execution_count": 116,
   "outputs": [
    {
     "data": {
      "text/plain": "    Owner   Player   Guess\n1     Али   Рена Б  Факт 1\n2     Али  Алескер  Факт 3\n3     Али     Эмин  Факт 2\n4     Али    Ирада  Факт 1\n5     Али   Рена А  Факт 1\n..    ...      ...     ...\n116  Эмин    Ирада  Факт 2\n117  Эмин    Аслан  Факт 3\n118  Эмин     Кама  Факт 3\n119  Эмин   Рена А  Факт 3\n120  Эмин    Гирей  Факт 1\n\n[110 rows x 3 columns]",
      "text/html": "<div>\n<style scoped>\n    .dataframe tbody tr th:only-of-type {\n        vertical-align: middle;\n    }\n\n    .dataframe tbody tr th {\n        vertical-align: top;\n    }\n\n    .dataframe thead th {\n        text-align: right;\n    }\n</style>\n<table border=\"1\" class=\"dataframe\">\n  <thead>\n    <tr style=\"text-align: right;\">\n      <th></th>\n      <th>Owner</th>\n      <th>Player</th>\n      <th>Guess</th>\n    </tr>\n  </thead>\n  <tbody>\n    <tr>\n      <th>1</th>\n      <td>Али</td>\n      <td>Рена Б</td>\n      <td>Факт 1</td>\n    </tr>\n    <tr>\n      <th>2</th>\n      <td>Али</td>\n      <td>Алескер</td>\n      <td>Факт 3</td>\n    </tr>\n    <tr>\n      <th>3</th>\n      <td>Али</td>\n      <td>Эмин</td>\n      <td>Факт 2</td>\n    </tr>\n    <tr>\n      <th>4</th>\n      <td>Али</td>\n      <td>Ирада</td>\n      <td>Факт 1</td>\n    </tr>\n    <tr>\n      <th>5</th>\n      <td>Али</td>\n      <td>Рена А</td>\n      <td>Факт 1</td>\n    </tr>\n    <tr>\n      <th>...</th>\n      <td>...</td>\n      <td>...</td>\n      <td>...</td>\n    </tr>\n    <tr>\n      <th>116</th>\n      <td>Эмин</td>\n      <td>Ирада</td>\n      <td>Факт 2</td>\n    </tr>\n    <tr>\n      <th>117</th>\n      <td>Эмин</td>\n      <td>Аслан</td>\n      <td>Факт 3</td>\n    </tr>\n    <tr>\n      <th>118</th>\n      <td>Эмин</td>\n      <td>Кама</td>\n      <td>Факт 3</td>\n    </tr>\n    <tr>\n      <th>119</th>\n      <td>Эмин</td>\n      <td>Рена А</td>\n      <td>Факт 3</td>\n    </tr>\n    <tr>\n      <th>120</th>\n      <td>Эмин</td>\n      <td>Гирей</td>\n      <td>Факт 1</td>\n    </tr>\n  </tbody>\n</table>\n<p>110 rows × 3 columns</p>\n</div>"
     },
     "execution_count": 116,
     "metadata": {},
     "output_type": "execute_result"
    }
   ],
   "source": [
    "# selecting rows based on condition\n",
    "df_raw = alldf_raw.loc[alldf_raw['Owner'] != alldf_raw['Player']]\n",
    "df_raw"
   ],
   "metadata": {
    "collapsed": false,
    "pycharm": {
     "name": "#%%\n"
    }
   }
  },
  {
   "cell_type": "code",
   "execution_count": 117,
   "outputs": [
    {
     "data": {
      "text/plain": "      Player   Guess\n0        Али  Факт 2\n11     Аслан  Факт 1\n22    Рена Б  Факт 2\n33    Рена А  Факт 2\n44      Кама  Факт 2\n55   Алескер  Факт 2\n66     Ирада  Факт 3\n77      Заур  Факт 1\n98     Гирей  Факт 2\n99      Фуад  Факт 1\n110     Эмин  Факт 3",
      "text/html": "<div>\n<style scoped>\n    .dataframe tbody tr th:only-of-type {\n        vertical-align: middle;\n    }\n\n    .dataframe tbody tr th {\n        vertical-align: top;\n    }\n\n    .dataframe thead th {\n        text-align: right;\n    }\n</style>\n<table border=\"1\" class=\"dataframe\">\n  <thead>\n    <tr style=\"text-align: right;\">\n      <th></th>\n      <th>Player</th>\n      <th>Guess</th>\n    </tr>\n  </thead>\n  <tbody>\n    <tr>\n      <th>0</th>\n      <td>Али</td>\n      <td>Факт 2</td>\n    </tr>\n    <tr>\n      <th>11</th>\n      <td>Аслан</td>\n      <td>Факт 1</td>\n    </tr>\n    <tr>\n      <th>22</th>\n      <td>Рена Б</td>\n      <td>Факт 2</td>\n    </tr>\n    <tr>\n      <th>33</th>\n      <td>Рена А</td>\n      <td>Факт 2</td>\n    </tr>\n    <tr>\n      <th>44</th>\n      <td>Кама</td>\n      <td>Факт 2</td>\n    </tr>\n    <tr>\n      <th>55</th>\n      <td>Алескер</td>\n      <td>Факт 2</td>\n    </tr>\n    <tr>\n      <th>66</th>\n      <td>Ирада</td>\n      <td>Факт 3</td>\n    </tr>\n    <tr>\n      <th>77</th>\n      <td>Заур</td>\n      <td>Факт 1</td>\n    </tr>\n    <tr>\n      <th>98</th>\n      <td>Гирей</td>\n      <td>Факт 2</td>\n    </tr>\n    <tr>\n      <th>99</th>\n      <td>Фуад</td>\n      <td>Факт 1</td>\n    </tr>\n    <tr>\n      <th>110</th>\n      <td>Эмин</td>\n      <td>Факт 3</td>\n    </tr>\n  </tbody>\n</table>\n</div>"
     },
     "execution_count": 117,
     "metadata": {},
     "output_type": "execute_result"
    }
   ],
   "source": [
    "df2_raw = alldf_raw.loc[alldf_raw['Owner'] == alldf_raw['Player']]\n",
    "del df2_raw['Owner']\n",
    "df2_raw"
   ],
   "metadata": {
    "collapsed": false,
    "pycharm": {
     "name": "#%%\n"
    }
   }
  },
  {
   "cell_type": "code",
   "execution_count": 118,
   "outputs": [],
   "source": [
    "# which owners\n",
    "owners = df_raw['Owner'].unique()\n",
    "#print(urls.tolist())\n",
    "\n",
    "# which players\n",
    "players = df_raw['Player'].unique()\n",
    "\n",
    "# which guesses\n",
    "guess = df_raw['Guess'].unique()"
   ],
   "metadata": {
    "collapsed": false,
    "pycharm": {
     "name": "#%%\n"
    }
   }
  }
 ],
 "metadata": {
  "kernelspec": {
   "display_name": "Python 3",
   "language": "python",
   "name": "python3"
  },
  "language_info": {
   "codemirror_mode": {
    "name": "ipython",
    "version": 2
   },
   "file_extension": ".py",
   "mimetype": "text/x-python",
   "name": "python",
   "nbconvert_exporter": "python",
   "pygments_lexer": "ipython2",
   "version": "2.7.6"
  }
 },
 "nbformat": 4,
 "nbformat_minor": 0
}