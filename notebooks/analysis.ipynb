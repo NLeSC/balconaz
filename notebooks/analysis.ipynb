{
 "cells": [
  {
   "cell_type": "code",
   "execution_count": 133,
   "outputs": [
    {
     "name": "stdout",
     "output_type": "stream",
     "text": [
      "The autoreload extension is already loaded. To reload it, use:\n",
      "  %reload_ext autoreload\n"
     ]
    }
   ],
   "source": [
    "%load_ext autoreload\n",
    "%autoreload"
   ],
   "metadata": {
    "collapsed": false,
    "pycharm": {
     "name": "#%%\n"
    }
   }
  },
  {
   "cell_type": "markdown",
   "source": [
    "# Statistics\n",
    "\n",
    "This notebook contains plots and other code to explore guesses of the players of the game.\n",
    "\n",
    "### Table of Content:\n",
    "\n",
    "* ['Guesses' stats](#guess-stats)\n",
    "* [Ground truth related stats](#ground-truth-stats)\n"
   ],
   "metadata": {
    "collapsed": false
   }
  },
  {
   "cell_type": "code",
   "execution_count": 134,
   "metadata": {
    "collapsed": true
   },
   "outputs": [],
   "source": [
    "import pandas as pd\n",
    "\n",
    "import matplotlib.pyplot as plt\n",
    "import numpy as np\n",
    "%run ./prepare_data.ipynb\n",
    "\n",
    "\n"
   ]
  },
  {
   "cell_type": "markdown",
   "source": [
    "\n",
    "\n",
    "## <a class=\"anchor\" id=\"guess-stats\">Guesses stats</a>\n",
    "\n",
    "### Most popular and least votes"
   ],
   "metadata": {
    "collapsed": false
   }
  },
  {
   "cell_type": "code",
   "execution_count": 135,
   "outputs": [
    {
     "name": "stdout",
     "output_type": "stream",
     "text": [
      "   Current URL     Guess  votes\n",
      "0        URL10   Player4      4\n",
      "1        URL10   Player6      3\n",
      "2        URL10   Player3      2\n",
      "3        URL11   Player1      2\n",
      "4        URL11   Player9      2\n",
      "5         URL6   Player6      2\n",
      "6        URL10   Player1      1\n",
      "7        URL10   Player2      1\n",
      "8        URL11  Player10      1\n",
      "9        URL11  Player11      1\n",
      "10       URL11   Player2      1\n",
      "11       URL11   Player3      1\n",
      "12       URL11   Player5      1\n",
      "13       URL11   Player7      1\n",
      "14       URL11   Player8      1\n",
      "15        URL6   Player3      1\n"
     ]
    }
   ],
   "source": [
    "df_guess_simple = df_guess\n",
    "#df_guess_simple['Current URL'] = df_guess['Current URL'].str.replace('^[^_]*=', '')\\\n",
    "#df_guess_simple['Current URL'] = df_guess['Current URL'].str.replace('https://youtu.be/', '')\n",
    "with pd.option_context('display.max_rows', None, 'display.max_columns', None):  # more options can be specified also\n",
    "    print(df_guess_simple)"
   ],
   "metadata": {
    "collapsed": false,
    "pycharm": {
     "name": "#%%\n"
    }
   }
  },
  {
   "cell_type": "markdown",
   "source": [
    "## <a class=\"anchor\" id=\"ground-truth-stats\">Ground truth related stats </a>\n",
    "\n",
    "First, we compute the intersection between players/url column of ground truth df and guesses/url column of guess df, for all URLs.\n",
    "Note that one guess is inherently incorrect (by the rules of the game)."
   ],
   "metadata": {
    "collapsed": false
   }
  },
  {
   "cell_type": "code",
   "execution_count": 136,
   "outputs": [
    {
     "data": {
      "text/plain": "     URL   Player     Guess\n0  URL11  Player8  Player11\n1   URL6  Player9   Player6\n2   URL6  Player1   Player6",
      "text/html": "<div>\n<style scoped>\n    .dataframe tbody tr th:only-of-type {\n        vertical-align: middle;\n    }\n\n    .dataframe tbody tr th {\n        vertical-align: top;\n    }\n\n    .dataframe thead th {\n        text-align: right;\n    }\n</style>\n<table border=\"1\" class=\"dataframe\">\n  <thead>\n    <tr style=\"text-align: right;\">\n      <th></th>\n      <th>URL</th>\n      <th>Player</th>\n      <th>Guess</th>\n    </tr>\n  </thead>\n  <tbody>\n    <tr>\n      <th>0</th>\n      <td>URL11</td>\n      <td>Player8</td>\n      <td>Player11</td>\n    </tr>\n    <tr>\n      <th>1</th>\n      <td>URL6</td>\n      <td>Player9</td>\n      <td>Player6</td>\n    </tr>\n    <tr>\n      <th>2</th>\n      <td>URL6</td>\n      <td>Player1</td>\n      <td>Player6</td>\n    </tr>\n  </tbody>\n</table>\n</div>"
     },
     "execution_count": 136,
     "metadata": {},
     "output_type": "execute_result"
    }
   ],
   "source": [
    "#FIXME: this is not pretty\n",
    "\n",
    "# Correct guesses\n",
    "correct_guess_df = pd.merge(df_raw,df2_raw, how='inner', left_on=['Current URL', 'Guess'], right_on=['URL','Player'])\n",
    "del correct_guess_df['Player_y'], correct_guess_df['URL']\n",
    "correct_guess_df.rename(columns = {'Player_x':'Player'}, inplace = True)\n",
    "correct_guess_df.rename(columns = {'Current URL':'URL'}, inplace = True)\n",
    "correct_guess_df"
   ],
   "metadata": {
    "collapsed": false,
    "pycharm": {
     "name": "#%%\n"
    }
   }
  },
  {
   "cell_type": "code",
   "execution_count": 137,
   "outputs": [
    {
     "name": "stdout",
     "output_type": "stream",
     "text": [
      "      Player  Guess\n",
      "0    Player1    1.0\n",
      "1    Player2    0.0\n",
      "2    Player3    0.0\n",
      "3    Player4    0.0\n",
      "4    Player5    0.0\n",
      "5    Player6    0.0\n",
      "6    Player7    0.0\n",
      "7    Player8    1.0\n",
      "8    Player9    1.0\n",
      "9   Player10    0.0\n",
      "10  Player11    0.0\n"
     ]
    }
   ],
   "source": [
    "# Correct guesses per player\n",
    "#TODO: display this better\n",
    "\n",
    "corr_guess_stats = correct_guess_df.groupby(by=['Player'])['Guess'].count()\n",
    "corr_guess_stats = pd.merge(df2_raw, corr_guess_stats, on='Player',how='left').fillna(0)\n",
    "del corr_guess_stats['URL']\n",
    "print(corr_guess_stats)"
   ],
   "metadata": {
    "collapsed": false,
    "pycharm": {
     "name": "#%%\n"
    }
   }
  },
  {
   "cell_type": "code",
   "execution_count": 138,
   "outputs": [
    {
     "name": "stdout",
     "output_type": "stream",
     "text": [
      "      Player  Guess\n",
      "0    Player1    0.0\n",
      "1    Player2    0.0\n",
      "2    Player3    0.0\n",
      "3    Player4    0.0\n",
      "4    Player5    0.0\n",
      "5    Player6    2.0\n",
      "6    Player7    0.0\n",
      "7    Player8    0.0\n",
      "8    Player9    0.0\n",
      "9   Player10    0.0\n",
      "10  Player11    1.0\n"
     ]
    }
   ],
   "source": [
    "# Best and worst guessed players\n",
    "#TODO: display this better\n",
    "\n",
    "corr_player_stats = correct_guess_df.groupby(by=['URL'])['Guess'].count()\n",
    "corr_player_stats = pd.merge(df2_raw, corr_player_stats, on='URL',how='left').fillna(0)\n",
    "del corr_player_stats['URL']\n",
    "print(corr_player_stats)\n"
   ],
   "metadata": {
    "collapsed": false,
    "pycharm": {
     "name": "#%%\n"
    }
   }
  }
 ],
 "metadata": {
  "kernelspec": {
   "display_name": "Python 3",
   "language": "python",
   "name": "python3"
  },
  "language_info": {
   "codemirror_mode": {
    "name": "ipython",
    "version": 2
   },
   "file_extension": ".py",
   "mimetype": "text/x-python",
   "name": "python",
   "nbconvert_exporter": "python",
   "pygments_lexer": "ipython2",
   "version": "2.7.6"
  }
 },
 "nbformat": 4,
 "nbformat_minor": 0
}