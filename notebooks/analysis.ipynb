{
 "cells": [
  {
   "cell_type": "code",
   "execution_count": 19,
   "outputs": [
    {
     "name": "stdout",
     "output_type": "stream",
     "text": [
      "The autoreload extension is already loaded. To reload it, use:\n",
      "  %reload_ext autoreload\n"
     ]
    }
   ],
   "source": [
    "%load_ext autoreload\n",
    "%autoreload"
   ],
   "metadata": {
    "collapsed": false,
    "pycharm": {
     "name": "#%%\n"
    }
   }
  },
  {
   "cell_type": "markdown",
   "source": [
    "# Statistics\n",
    "\n",
    "This notebook contains plots and other code to explore guesses of the players of the game.\n",
    "\n",
    "### Table of Content:\n",
    "\n",
    "* ['Guesses' stats](#guess-stats)\n",
    "* [Ground truth related stats](#ground-truth-stats)\n"
   ],
   "metadata": {
    "collapsed": false
   }
  },
  {
   "cell_type": "code",
   "execution_count": 20,
   "metadata": {
    "collapsed": true
   },
   "outputs": [],
   "source": [
    "import pandas as pd\n",
    "\n",
    "import matplotlib.pyplot as plt\n",
    "import numpy as np\n",
    "%run ./prepare_data.ipynb\n",
    "\n",
    "\n"
   ]
  },
  {
   "cell_type": "markdown",
   "source": [
    "\n",
    "\n",
    "## <a class=\"anchor\" id=\"guess-stats\">Guesses stats</a>\n",
    "\n",
    "### Most popular and least votes"
   ],
   "metadata": {
    "collapsed": false
   }
  },
  {
   "cell_type": "code",
   "execution_count": 21,
   "outputs": [],
   "source": [
    "# trim the long url string for readibility\n",
    "def trim_url(df, df_idx, str_lst):\n",
    "    df_simple = df.copy()\n",
    "    for s in str_lst:\n",
    "        df_simple[df_idx] = df_simple[df_idx].str.replace(s, '')\n",
    "    return df_simple\n",
    "\n",
    "#def highlight_rows(df,v):\n",
    "#    if df.col > v:\n",
    "#        return ['background-color: yellow']*df.shape[1]\n",
    "#    else:\n",
    "#        return ['background-color: white']*df.shape[1]\n",
    "#df_guess_simple.style.apply(highlight_rows(0), axis=1)"
   ],
   "metadata": {
    "collapsed": false,
    "pycharm": {
     "name": "#%%\n"
    }
   }
  },
  {
   "cell_type": "code",
   "execution_count": 22,
   "outputs": [
    {
     "name": "stdout",
     "output_type": "stream",
     "text": [
      "   Current URL     Guess  votes\n",
      "0        URL10   Player4      4\n",
      "1        URL10   Player6      3\n",
      "2        URL10   Player3      2\n",
      "3        URL11   Player1      2\n",
      "4        URL11   Player9      2\n",
      "5         URL6   Player6      2\n",
      "6        URL10   Player1      1\n",
      "7        URL10   Player2      1\n",
      "8        URL11  Player10      1\n",
      "9        URL11  Player11      1\n",
      "10       URL11   Player2      1\n",
      "11       URL11   Player3      1\n",
      "12       URL11   Player5      1\n",
      "13       URL11   Player7      1\n",
      "14       URL11   Player8      1\n",
      "15        URL6   Player3      1\n"
     ]
    }
   ],
   "source": [
    "yt_str = ['^[^_]*=','https://youtu.be/']\n",
    "\n",
    "#print all votes\n",
    "if ((df_guess['Current URL']).apply(len).max(axis=0) > 10):\n",
    "    df_guess_simple = trim_url(df_guess,'Current URL',yt_str)\n",
    "else:\n",
    "    df_guess_simple = df_guess\n",
    "with pd.option_context('display.max_rows', None, 'display.max_columns', None):  # printing all, more options can be specified also\n",
    "    print(df_guess_simple)\n",
    "\n"
   ],
   "metadata": {
    "collapsed": false,
    "pycharm": {
     "name": "#%%\n"
    }
   }
  },
  {
   "cell_type": "markdown",
   "source": [
    "## <a class=\"anchor\" id=\"ground-truth-stats\">Ground truth related stats </a>\n",
    "\n",
    "First, we compute the intersection between players/url column of ground truth df and guesses/url column of guess df, for all URLs.\n",
    "Note that one guess is inherently incorrect (by the rules of the game).\n",
    "\n"
   ],
   "metadata": {
    "collapsed": false
   }
  },
  {
   "cell_type": "code",
   "execution_count": 23,
   "outputs": [
    {
     "name": "stdout",
     "output_type": "stream",
     "text": [
      "     URL   Player     Guess\n",
      "0  URL11  Player8  Player11\n",
      "1   URL6  Player9   Player6\n",
      "2   URL6  Player1   Player6\n"
     ]
    }
   ],
   "source": [
    "# Correct guesses\n",
    "correct_guess_df = pd.merge(df_raw,df2_raw, how='inner', left_on=['Current URL', 'Guess'], right_on=['URL','Player'])\n",
    "#del correct_guess_df['Player_y'], correct_guess_df['URL']\n",
    "correct_guess_df = correct_guess_df.drop(['Player_y', 'URL'], axis = 1)\n",
    "correct_guess_df.rename(columns = {'Player_x':'Player','Current URL':'URL'}, inplace = True)\n",
    "\n",
    "correct_guess_simple = trim_url(correct_guess_df, 'URL', yt_str)\n",
    "print(correct_guess_simple)\n"
   ],
   "metadata": {
    "collapsed": false,
    "pycharm": {
     "name": "#%%\n"
    }
   }
  },
  {
   "cell_type": "code",
   "execution_count": 24,
   "outputs": [
    {
     "name": "stdout",
     "output_type": "stream",
     "text": [
      "      Player  Guess\n",
      "0    Player1    1.0\n",
      "1    Player2    0.0\n",
      "2    Player3    0.0\n",
      "3    Player4    0.0\n",
      "4    Player5    0.0\n",
      "5    Player6    0.0\n",
      "6    Player7    0.0\n",
      "7    Player8    1.0\n",
      "8    Player9    1.0\n",
      "9   Player10    0.0\n",
      "10  Player11    0.0\n"
     ]
    }
   ],
   "source": [
    "# Correct guesses per player\n",
    "#TODO: display this better\n",
    "\n",
    "corr_guess_stats = correct_guess_df.groupby(by=['Player'])['Guess'].count()\n",
    "corr_guess_stats = pd.merge(df2_raw, corr_guess_stats, on='Player',how='left').fillna(0)\n",
    "del corr_guess_stats['URL']\n",
    "print(corr_guess_stats)"
   ],
   "metadata": {
    "collapsed": false,
    "pycharm": {
     "name": "#%%\n"
    }
   }
  },
  {
   "cell_type": "code",
   "execution_count": 25,
   "outputs": [
    {
     "name": "stdout",
     "output_type": "stream",
     "text": [
      "      Player  Guess\n",
      "0    Player1      0\n",
      "1    Player2      0\n",
      "2    Player3      0\n",
      "3    Player4      0\n",
      "4    Player5      0\n",
      "5    Player6      2\n",
      "6    Player7      0\n",
      "7    Player8      0\n",
      "8    Player9      0\n",
      "9   Player10      0\n",
      "10  Player11      1\n"
     ]
    }
   ],
   "source": [
    "# Best and worst guessed players\n",
    "#TODO: display this better\n",
    "\n",
    "corr_player_stats = correct_guess_df.groupby(by=['URL'])['Guess'].count()\n",
    "corr_player_stats = pd.merge(df2_raw, corr_player_stats, on='URL',how='left').fillna(0)\n",
    "del corr_player_stats['URL']\n",
    "#corr_player_stats['Guess'] = pd.to_numeric(corr_player_stats['Guess'])\n",
    "corr_player_stats['Guess'] = corr_player_stats['Guess'].values.astype(int)\n",
    "print(corr_player_stats)"
   ],
   "metadata": {
    "collapsed": false,
    "pycharm": {
     "name": "#%%\n"
    }
   }
  },
  {
   "cell_type": "code",
   "execution_count": 26,
   "outputs": [
    {
     "name": "stdout",
     "output_type": "stream",
     "text": [
      "      Player  votes\n",
      "0    Player6      5\n",
      "1    Player3      4\n",
      "2    Player4      4\n",
      "3    Player1      3\n",
      "4    Player9      2\n",
      "5    Player2      2\n",
      "6    Player7      1\n",
      "7   Player10      1\n",
      "8   Player11      1\n",
      "9    Player8      1\n",
      "10   Player5      1\n"
     ]
    }
   ],
   "source": [
    "with pd.option_context('display.max_rows', None, 'display.max_columns', None):  # printing all, more options can be specified also\n",
    "    print(total_votes)\n"
   ],
   "metadata": {
    "collapsed": false,
    "pycharm": {
     "name": "#%%\n"
    }
   }
  },
  {
   "cell_type": "code",
   "execution_count": 27,
   "outputs": [
    {
     "name": "stdout",
     "output_type": "stream",
     "text": [
      "      Player  votes\n",
      "0    Player1      5\n",
      "1    Player2      4\n",
      "2    Player3      4\n",
      "3    Player4      3\n",
      "4    Player5      2\n",
      "5    Player6      0\n",
      "6    Player7      1\n",
      "7    Player8      1\n",
      "8    Player9      1\n",
      "9   Player10      1\n",
      "10  Player11      0\n"
     ]
    }
   ],
   "source": [
    "wrong_votes = corr_player_stats.copy()\n",
    "wrong_votes.rename(columns = {'Guess':'votes'}, inplace = True)\n",
    "wrong_votes[\"votes\"] =  total_votes[\"votes\"] - corr_player_stats[\"Guess\"]\n",
    "print(wrong_votes)"
   ],
   "metadata": {
    "collapsed": false,
    "pycharm": {
     "name": "#%%\n"
    }
   }
  }
 ],
 "metadata": {
  "kernelspec": {
   "display_name": "Python 3",
   "language": "python",
   "name": "python3"
  },
  "language_info": {
   "codemirror_mode": {
    "name": "ipython",
    "version": 2
   },
   "file_extension": ".py",
   "mimetype": "text/x-python",
   "name": "python",
   "nbconvert_exporter": "python",
   "pygments_lexer": "ipython2",
   "version": "2.7.6"
  }
 },
 "nbformat": 4,
 "nbformat_minor": 0
}