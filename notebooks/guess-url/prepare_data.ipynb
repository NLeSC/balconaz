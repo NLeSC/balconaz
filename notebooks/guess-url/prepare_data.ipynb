{
 "cells": [
  {
   "cell_type": "markdown",
   "metadata": {},
   "source": [
    "# Data import\n",
    "This notebook contains imports of the data, namely, players, their urls and guesses of other players of the game.\n"
   ]
  },
  {
   "cell_type": "code",
   "execution_count": 37,
   "metadata": {
    "collapsed": true
   },
   "outputs": [],
   "source": [
    "import pandas as pd\n",
    "from pathlib import Path"
   ]
  },
  {
   "cell_type": "markdown",
   "metadata": {},
   "source": [
    "NB: Don't forget to run all the scripts prior to this step."
   ]
  },
  {
   "cell_type": "code",
   "execution_count": 38,
   "metadata": {
    "collapsed": false,
    "pycharm": {
     "name": "#%%\n"
    }
   },
   "outputs": [],
   "source": [
    "# initialize all dataframes\n",
    "df_raw = pd.DataFrame()\n",
    "df2_raw = pd.DataFrame()"
   ]
  },
  {
   "cell_type": "code",
   "execution_count": 39,
   "metadata": {
    "collapsed": false,
    "pycharm": {
     "name": "#%%\n"
    }
   },
   "outputs": [],
   "source": [
    "# Load all inputs\n",
    "#ans_file = Path('../data/answers.csv')\n",
    "ans_file = Path('../data/real-guesses.csv')\n",
    "#gt_file = Path('../data/ground_truth.csv')\n",
    "gt_file = Path('../data/input-gt.csv')\n",
    "if ans_file.is_file():\n",
    "    df_raw = pd.read_csv(ans_file,error_bad_lines=False)\n",
    "if gt_file.is_file():\n",
    "    df2_raw = pd.read_csv(gt_file,error_bad_lines=False,skipinitialspace=True).apply(lambda s:s.str.replace('\"', ''))\n"
   ]
  },
  {
   "cell_type": "code",
   "execution_count": 40,
   "metadata": {
    "collapsed": false,
    "pycharm": {
     "name": "#%%\n"
    }
   },
   "outputs": [
    {
     "data": {
      "text/plain": "                                   Current URL        Player    Guess\n0  https://www.youtube.com/watch?v=T5tGEv9cegY  Ali Huseynov     Фуад\n1  https://www.youtube.com/watch?v=T5tGEv9cegY       Rena B.     Фуад\n2  https://www.youtube.com/watch?v=T5tGEv9cegY        Rena A     Фуад\n3  https://www.youtube.com/watch?v=T5tGEv9cegY          Фуад  Rena B.\n4  https://www.youtube.com/watch?v=T5tGEv9cegY       Kamusik     Фуад",
      "text/html": "<div>\n<style scoped>\n    .dataframe tbody tr th:only-of-type {\n        vertical-align: middle;\n    }\n\n    .dataframe tbody tr th {\n        vertical-align: top;\n    }\n\n    .dataframe thead th {\n        text-align: right;\n    }\n</style>\n<table border=\"1\" class=\"dataframe\">\n  <thead>\n    <tr style=\"text-align: right;\">\n      <th></th>\n      <th>Current URL</th>\n      <th>Player</th>\n      <th>Guess</th>\n    </tr>\n  </thead>\n  <tbody>\n    <tr>\n      <th>0</th>\n      <td>https://www.youtube.com/watch?v=T5tGEv9cegY</td>\n      <td>Ali Huseynov</td>\n      <td>Фуад</td>\n    </tr>\n    <tr>\n      <th>1</th>\n      <td>https://www.youtube.com/watch?v=T5tGEv9cegY</td>\n      <td>Rena B.</td>\n      <td>Фуад</td>\n    </tr>\n    <tr>\n      <th>2</th>\n      <td>https://www.youtube.com/watch?v=T5tGEv9cegY</td>\n      <td>Rena A</td>\n      <td>Фуад</td>\n    </tr>\n    <tr>\n      <th>3</th>\n      <td>https://www.youtube.com/watch?v=T5tGEv9cegY</td>\n      <td>Фуад</td>\n      <td>Rena B.</td>\n    </tr>\n    <tr>\n      <th>4</th>\n      <td>https://www.youtube.com/watch?v=T5tGEv9cegY</td>\n      <td>Kamusik</td>\n      <td>Фуад</td>\n    </tr>\n  </tbody>\n</table>\n</div>"
     },
     "execution_count": 40,
     "metadata": {},
     "output_type": "execute_result"
    }
   ],
   "source": [
    "#check\n",
    "#print(df_raw.shape, df2_raw.shape)\n",
    "del df_raw['Timestamp']\n",
    "df_raw.head()\n",
    "\n"
   ]
  },
  {
   "cell_type": "code",
   "execution_count": 41,
   "metadata": {
    "collapsed": false,
    "pycharm": {
     "name": "#%%\n"
    }
   },
   "outputs": [
    {
     "data": {
      "text/plain": "         Player                                          URL\n0       Rena B.  https://www.youtube.com/watch?v=6ybd5rbQ5rU\n1         Aslan  https://www.youtube.com/watch?v=yawlrsRDabA\n2  Ali Huseynov                 https://youtu.be/J3eeh15GXj0\n3         Ирада  https://www.youtube.com/watch?v=T5tGEv9cegY\n4         Girey  https://www.youtube.com/watch?v=9pBmkOB1P8U",
      "text/html": "<div>\n<style scoped>\n    .dataframe tbody tr th:only-of-type {\n        vertical-align: middle;\n    }\n\n    .dataframe tbody tr th {\n        vertical-align: top;\n    }\n\n    .dataframe thead th {\n        text-align: right;\n    }\n</style>\n<table border=\"1\" class=\"dataframe\">\n  <thead>\n    <tr style=\"text-align: right;\">\n      <th></th>\n      <th>Player</th>\n      <th>URL</th>\n    </tr>\n  </thead>\n  <tbody>\n    <tr>\n      <th>0</th>\n      <td>Rena B.</td>\n      <td>https://www.youtube.com/watch?v=6ybd5rbQ5rU</td>\n    </tr>\n    <tr>\n      <th>1</th>\n      <td>Aslan</td>\n      <td>https://www.youtube.com/watch?v=yawlrsRDabA</td>\n    </tr>\n    <tr>\n      <th>2</th>\n      <td>Ali Huseynov</td>\n      <td>https://youtu.be/J3eeh15GXj0</td>\n    </tr>\n    <tr>\n      <th>3</th>\n      <td>Ирада</td>\n      <td>https://www.youtube.com/watch?v=T5tGEv9cegY</td>\n    </tr>\n    <tr>\n      <th>4</th>\n      <td>Girey</td>\n      <td>https://www.youtube.com/watch?v=9pBmkOB1P8U</td>\n    </tr>\n  </tbody>\n</table>\n</div>"
     },
     "execution_count": 41,
     "metadata": {},
     "output_type": "execute_result"
    }
   ],
   "source": [
    "# change column titles\n",
    "df2_raw.rename(columns = {df2_raw.columns[1]:'Player'},inplace=True)\n",
    "df2_raw.rename(columns = {df2_raw.columns[2]:'URL'},inplace=True)\n",
    "del df2_raw['Timestamp']\n",
    "#df2_raw.columns.str.lstrip()\n",
    "df2_raw.head()\n",
    "#df_raw.shape"
   ]
  },
  {
   "cell_type": "code",
   "execution_count": 42,
   "metadata": {
    "collapsed": false,
    "pycharm": {
     "name": "#%%\n"
    }
   },
   "outputs": [],
   "source": [
    "# which urls\n",
    "urls = df_raw['Current URL'].unique()\n",
    "#print(urls.tolist())\n",
    "\n",
    "# which players\n",
    "players = df_raw['Player'].unique()\n",
    "\n",
    "# which guesses\n",
    "guess = df_raw['Guess'].unique()"
   ]
  },
  {
   "cell_type": "code",
   "execution_count": 43,
   "metadata": {
    "collapsed": false,
    "pycharm": {
     "name": "#%%\n"
    }
   },
   "outputs": [
    {
     "data": {
      "text/plain": "         Player    Guess\n0  Ali Huseynov     Фуад\n1       Rena B.     Фуад\n2        Rena A     Фуад\n3          Фуад  Rena B.\n4       Kamusik     Фуад",
      "text/html": "<div>\n<style scoped>\n    .dataframe tbody tr th:only-of-type {\n        vertical-align: middle;\n    }\n\n    .dataframe tbody tr th {\n        vertical-align: top;\n    }\n\n    .dataframe thead th {\n        text-align: right;\n    }\n</style>\n<table border=\"1\" class=\"dataframe\">\n  <thead>\n    <tr style=\"text-align: right;\">\n      <th></th>\n      <th>Player</th>\n      <th>Guess</th>\n    </tr>\n  </thead>\n  <tbody>\n    <tr>\n      <th>0</th>\n      <td>Ali Huseynov</td>\n      <td>Фуад</td>\n    </tr>\n    <tr>\n      <th>1</th>\n      <td>Rena B.</td>\n      <td>Фуад</td>\n    </tr>\n    <tr>\n      <th>2</th>\n      <td>Rena A</td>\n      <td>Фуад</td>\n    </tr>\n    <tr>\n      <th>3</th>\n      <td>Фуад</td>\n      <td>Rena B.</td>\n    </tr>\n    <tr>\n      <th>4</th>\n      <td>Kamusik</td>\n      <td>Фуад</td>\n    </tr>\n  </tbody>\n</table>\n</div>"
     },
     "execution_count": 43,
     "metadata": {},
     "output_type": "execute_result"
    }
   ],
   "source": [
    "df_player_guess=df_raw.loc[:,['Player','Guess']]\n",
    "df_player_guess.head()"
   ]
  },
  {
   "cell_type": "code",
   "execution_count": 44,
   "metadata": {
    "collapsed": false,
    "pycharm": {
     "name": "#%%\n"
    }
   },
   "outputs": [
    {
     "data": {
      "text/plain": "                                   Current URL    Guess\n0  https://www.youtube.com/watch?v=T5tGEv9cegY     Фуад\n1  https://www.youtube.com/watch?v=T5tGEv9cegY     Фуад\n2  https://www.youtube.com/watch?v=T5tGEv9cegY     Фуад\n3  https://www.youtube.com/watch?v=T5tGEv9cegY  Rena B.\n4  https://www.youtube.com/watch?v=T5tGEv9cegY     Фуад",
      "text/html": "<div>\n<style scoped>\n    .dataframe tbody tr th:only-of-type {\n        vertical-align: middle;\n    }\n\n    .dataframe tbody tr th {\n        vertical-align: top;\n    }\n\n    .dataframe thead th {\n        text-align: right;\n    }\n</style>\n<table border=\"1\" class=\"dataframe\">\n  <thead>\n    <tr style=\"text-align: right;\">\n      <th></th>\n      <th>Current URL</th>\n      <th>Guess</th>\n    </tr>\n  </thead>\n  <tbody>\n    <tr>\n      <th>0</th>\n      <td>https://www.youtube.com/watch?v=T5tGEv9cegY</td>\n      <td>Фуад</td>\n    </tr>\n    <tr>\n      <th>1</th>\n      <td>https://www.youtube.com/watch?v=T5tGEv9cegY</td>\n      <td>Фуад</td>\n    </tr>\n    <tr>\n      <th>2</th>\n      <td>https://www.youtube.com/watch?v=T5tGEv9cegY</td>\n      <td>Фуад</td>\n    </tr>\n    <tr>\n      <th>3</th>\n      <td>https://www.youtube.com/watch?v=T5tGEv9cegY</td>\n      <td>Rena B.</td>\n    </tr>\n    <tr>\n      <th>4</th>\n      <td>https://www.youtube.com/watch?v=T5tGEv9cegY</td>\n      <td>Фуад</td>\n    </tr>\n  </tbody>\n</table>\n</div>"
     },
     "execution_count": 44,
     "metadata": {},
     "output_type": "execute_result"
    }
   ],
   "source": [
    "# looking at the guesses per URL slice\n",
    "df_url_guess=df_raw.loc[:,['Current URL','Guess']] #only guesses per URL\n",
    "df_url_guess.head()"
   ]
  },
  {
   "cell_type": "code",
   "execution_count": 45,
   "metadata": {
    "collapsed": false,
    "pycharm": {
     "name": "#%%\n"
    }
   },
   "outputs": [],
   "source": [
    "# code from https://towardsdatascience.com/from-dataframe-to-network-graph-bbb35c8ab675\n",
    "# function creating leaderboard\n",
    "\n",
    "def create_leaderboard(df,col_name, tab_header):\n",
    "    leaderboard = df[col_name].value_counts(ascending=True)\n",
    "    s = pd.Series(leaderboard, name=tab_header)\n",
    "    df2 = s.to_frame().sort_values(tab_header, ascending=False)\n",
    "    return df2"
   ]
  },
  {
   "cell_type": "code",
   "execution_count": 46,
   "metadata": {
    "collapsed": false,
    "pycharm": {
     "name": "#%%\n"
    }
   },
   "outputs": [],
   "source": [
    "# total number of votes per link\n",
    "votes_links = create_leaderboard(df_raw,'Current URL','votes')"
   ]
  },
  {
   "cell_type": "code",
   "execution_count": 47,
   "metadata": {
    "collapsed": false,
    "pycharm": {
     "name": "#%%\n"
    }
   },
   "outputs": [],
   "source": [
    "# total votes for each player\n",
    "total_votes = create_leaderboard(df_raw,'Guess','votes')\n",
    "total_votes = total_votes.sort_values(\"votes\", ascending=False).reset_index()\n",
    "total_votes.rename(columns = {'index':'Player'}, inplace = True)\n",
    "#total_votes['votes'] = pd.to_numeric(total_votes['votes'])"
   ]
  },
  {
   "cell_type": "code",
   "execution_count": 48,
   "metadata": {
    "collapsed": false,
    "pycharm": {
     "name": "#%%\n"
    }
   },
   "outputs": [],
   "source": [
    "# stats of guesses per URL\n",
    "\n",
    "guess_stats = df_raw.groupby(by=['Current URL', 'Guess'])['Guess'].count()\n",
    "s = pd.Series(guess_stats, name=\"votes\")\n",
    "df_guess = s.to_frame().sort_values(\"votes\", ascending=False).reset_index()\n"
   ]
  }
 ],
 "metadata": {
  "kernelspec": {
   "display_name": "Python 3",
   "language": "python",
   "name": "python3"
  },
  "language_info": {
   "codemirror_mode": {
    "name": "ipython",
    "version": 3
   },
   "file_extension": ".py",
   "mimetype": "text/x-python",
   "name": "python",
   "nbconvert_exporter": "python",
   "pygments_lexer": "ipython3",
   "version": "3.6.8"
  }
 },
 "nbformat": 4,
 "nbformat_minor": 2
}