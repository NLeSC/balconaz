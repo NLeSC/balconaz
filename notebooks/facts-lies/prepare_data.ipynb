{
 "cells": [
  {
   "cell_type": "code",
   "execution_count": 10,
   "metadata": {
    "collapsed": true
   },
   "outputs": [],
   "source": []
  },
  {
   "cell_type": "markdown",
   "source": [
    "# Data import\n",
    "This notebook contains imports of the data, namely, players, their urls and guesses of other players of the game.\n"
   ],
   "metadata": {
    "collapsed": false
   }
  },
  {
   "cell_type": "code",
   "execution_count": 11,
   "outputs": [],
   "source": [
    "import pandas as pd\n",
    "from pathlib import Path\n",
    "from utils.aux_func import create_leaderboard"
   ],
   "metadata": {
    "collapsed": false,
    "pycharm": {
     "name": "#%%\n"
    }
   }
  },
  {
   "cell_type": "markdown",
   "source": [
    "NB: Don't forget to run all the scripts prior to this step."
   ],
   "metadata": {
    "collapsed": false
   }
  },
  {
   "cell_type": "code",
   "execution_count": 12,
   "outputs": [],
   "source": [
    "# initialize all dataframes\n",
    "alldf_raw = pd.DataFrame()\n",
    "df_raw = pd.DataFrame()\n",
    "df2_raw = pd.DataFrame()"
   ],
   "metadata": {
    "collapsed": false,
    "pycharm": {
     "name": "#%%\n"
    }
   }
  },
  {
   "cell_type": "code",
   "execution_count": 13,
   "outputs": [
    {
     "data": {
      "text/plain": "  Чьи факты? Кто угадывает?  \\\n0    Player1        Player1   \n1    Player1        Player2   \n2    Player1        Player3   \n3    Player1        Player4   \n4    Player2        Player1   \n\n  Какой из фактов правда? Отмечать только один ответ.  \n0                                             Fact 1   \n1                                             Fact 2   \n2                                             Fact 1   \n3                                             Fact 3   \n4                                             Fact 1   ",
      "text/html": "<div>\n<style scoped>\n    .dataframe tbody tr th:only-of-type {\n        vertical-align: middle;\n    }\n\n    .dataframe tbody tr th {\n        vertical-align: top;\n    }\n\n    .dataframe thead th {\n        text-align: right;\n    }\n</style>\n<table border=\"1\" class=\"dataframe\">\n  <thead>\n    <tr style=\"text-align: right;\">\n      <th></th>\n      <th>Чьи факты?</th>\n      <th>Кто угадывает?</th>\n      <th>Какой из фактов правда? Отмечать только один ответ.</th>\n    </tr>\n  </thead>\n  <tbody>\n    <tr>\n      <th>0</th>\n      <td>Player1</td>\n      <td>Player1</td>\n      <td>Fact 1</td>\n    </tr>\n    <tr>\n      <th>1</th>\n      <td>Player1</td>\n      <td>Player2</td>\n      <td>Fact 2</td>\n    </tr>\n    <tr>\n      <th>2</th>\n      <td>Player1</td>\n      <td>Player3</td>\n      <td>Fact 1</td>\n    </tr>\n    <tr>\n      <th>3</th>\n      <td>Player1</td>\n      <td>Player4</td>\n      <td>Fact 3</td>\n    </tr>\n    <tr>\n      <th>4</th>\n      <td>Player2</td>\n      <td>Player1</td>\n      <td>Fact 1</td>\n    </tr>\n  </tbody>\n</table>\n</div>"
     },
     "execution_count": 13,
     "metadata": {},
     "output_type": "execute_result"
    }
   ],
   "source": [
    "# Load all inputs\n",
    "\n",
    "ans_file = Path('../../data/input-lie-gt.csv')\n",
    "\n",
    "if ans_file.is_file():\n",
    "    alldf_raw = pd.read_csv(ans_file,error_bad_lines=False)\n",
    "del alldf_raw['Timestamp']\n",
    "alldf_raw.head()\n"
   ],
   "metadata": {
    "collapsed": false,
    "pycharm": {
     "name": "#%%\n"
    }
   }
  },
  {
   "cell_type": "code",
   "execution_count": 14,
   "outputs": [
    {
     "data": {
      "text/plain": "     Owner   Player   Guess\n0  Player1  Player1  Fact 1\n1  Player1  Player2  Fact 2\n2  Player1  Player3  Fact 1\n3  Player1  Player4  Fact 3\n4  Player2  Player1  Fact 1",
      "text/html": "<div>\n<style scoped>\n    .dataframe tbody tr th:only-of-type {\n        vertical-align: middle;\n    }\n\n    .dataframe tbody tr th {\n        vertical-align: top;\n    }\n\n    .dataframe thead th {\n        text-align: right;\n    }\n</style>\n<table border=\"1\" class=\"dataframe\">\n  <thead>\n    <tr style=\"text-align: right;\">\n      <th></th>\n      <th>Owner</th>\n      <th>Player</th>\n      <th>Guess</th>\n    </tr>\n  </thead>\n  <tbody>\n    <tr>\n      <th>0</th>\n      <td>Player1</td>\n      <td>Player1</td>\n      <td>Fact 1</td>\n    </tr>\n    <tr>\n      <th>1</th>\n      <td>Player1</td>\n      <td>Player2</td>\n      <td>Fact 2</td>\n    </tr>\n    <tr>\n      <th>2</th>\n      <td>Player1</td>\n      <td>Player3</td>\n      <td>Fact 1</td>\n    </tr>\n    <tr>\n      <th>3</th>\n      <td>Player1</td>\n      <td>Player4</td>\n      <td>Fact 3</td>\n    </tr>\n    <tr>\n      <th>4</th>\n      <td>Player2</td>\n      <td>Player1</td>\n      <td>Fact 1</td>\n    </tr>\n  </tbody>\n</table>\n</div>"
     },
     "execution_count": 14,
     "metadata": {},
     "output_type": "execute_result"
    }
   ],
   "source": [
    "# change column titles\n",
    "alldf_raw.rename(columns = {alldf_raw.columns[0]:'Owner'},inplace=True)\n",
    "alldf_raw.rename(columns = {alldf_raw.columns[1]:'Player'},inplace=True)\n",
    "alldf_raw.rename(columns = {alldf_raw.columns[2]:'Guess'},inplace=True)\n",
    "\n",
    "alldf_raw.head()"
   ],
   "metadata": {
    "collapsed": false,
    "pycharm": {
     "name": "#%%\n"
    }
   }
  },
  {
   "cell_type": "code",
   "execution_count": 15,
   "outputs": [
    {
     "data": {
      "text/plain": "      Owner   Player   Guess\n1   Player1  Player2  Fact 2\n2   Player1  Player3  Fact 1\n3   Player1  Player4  Fact 3\n4   Player2  Player1  Fact 1\n6   Player2  Player3  Fact 3\n7   Player2  Player4  Fact 3\n8   Player3  Player1  Fact 1\n9   Player3  Player2  Fact 1\n11  Player3  Player4  Fact 2\n12  Player4  Player1  Fact 3\n13  Player4  Player2  Fact 3\n14  Player4  Player3  Fact 1",
      "text/html": "<div>\n<style scoped>\n    .dataframe tbody tr th:only-of-type {\n        vertical-align: middle;\n    }\n\n    .dataframe tbody tr th {\n        vertical-align: top;\n    }\n\n    .dataframe thead th {\n        text-align: right;\n    }\n</style>\n<table border=\"1\" class=\"dataframe\">\n  <thead>\n    <tr style=\"text-align: right;\">\n      <th></th>\n      <th>Owner</th>\n      <th>Player</th>\n      <th>Guess</th>\n    </tr>\n  </thead>\n  <tbody>\n    <tr>\n      <th>1</th>\n      <td>Player1</td>\n      <td>Player2</td>\n      <td>Fact 2</td>\n    </tr>\n    <tr>\n      <th>2</th>\n      <td>Player1</td>\n      <td>Player3</td>\n      <td>Fact 1</td>\n    </tr>\n    <tr>\n      <th>3</th>\n      <td>Player1</td>\n      <td>Player4</td>\n      <td>Fact 3</td>\n    </tr>\n    <tr>\n      <th>4</th>\n      <td>Player2</td>\n      <td>Player1</td>\n      <td>Fact 1</td>\n    </tr>\n    <tr>\n      <th>6</th>\n      <td>Player2</td>\n      <td>Player3</td>\n      <td>Fact 3</td>\n    </tr>\n    <tr>\n      <th>7</th>\n      <td>Player2</td>\n      <td>Player4</td>\n      <td>Fact 3</td>\n    </tr>\n    <tr>\n      <th>8</th>\n      <td>Player3</td>\n      <td>Player1</td>\n      <td>Fact 1</td>\n    </tr>\n    <tr>\n      <th>9</th>\n      <td>Player3</td>\n      <td>Player2</td>\n      <td>Fact 1</td>\n    </tr>\n    <tr>\n      <th>11</th>\n      <td>Player3</td>\n      <td>Player4</td>\n      <td>Fact 2</td>\n    </tr>\n    <tr>\n      <th>12</th>\n      <td>Player4</td>\n      <td>Player1</td>\n      <td>Fact 3</td>\n    </tr>\n    <tr>\n      <th>13</th>\n      <td>Player4</td>\n      <td>Player2</td>\n      <td>Fact 3</td>\n    </tr>\n    <tr>\n      <th>14</th>\n      <td>Player4</td>\n      <td>Player3</td>\n      <td>Fact 1</td>\n    </tr>\n  </tbody>\n</table>\n</div>"
     },
     "execution_count": 15,
     "metadata": {},
     "output_type": "execute_result"
    }
   ],
   "source": [
    "# selecting rows based on condition\n",
    "df_raw = alldf_raw.loc[alldf_raw['Owner'] != alldf_raw['Player']]\n",
    "df_raw"
   ],
   "metadata": {
    "collapsed": false,
    "pycharm": {
     "name": "#%%\n"
    }
   }
  },
  {
   "cell_type": "code",
   "execution_count": 16,
   "outputs": [
    {
     "data": {
      "text/plain": "     Player   Guess\n0   Player1  Fact 1\n5   Player2  Fact 2\n10  Player3  Fact 1\n15  Player4  Fact 1",
      "text/html": "<div>\n<style scoped>\n    .dataframe tbody tr th:only-of-type {\n        vertical-align: middle;\n    }\n\n    .dataframe tbody tr th {\n        vertical-align: top;\n    }\n\n    .dataframe thead th {\n        text-align: right;\n    }\n</style>\n<table border=\"1\" class=\"dataframe\">\n  <thead>\n    <tr style=\"text-align: right;\">\n      <th></th>\n      <th>Player</th>\n      <th>Guess</th>\n    </tr>\n  </thead>\n  <tbody>\n    <tr>\n      <th>0</th>\n      <td>Player1</td>\n      <td>Fact 1</td>\n    </tr>\n    <tr>\n      <th>5</th>\n      <td>Player2</td>\n      <td>Fact 2</td>\n    </tr>\n    <tr>\n      <th>10</th>\n      <td>Player3</td>\n      <td>Fact 1</td>\n    </tr>\n    <tr>\n      <th>15</th>\n      <td>Player4</td>\n      <td>Fact 1</td>\n    </tr>\n  </tbody>\n</table>\n</div>"
     },
     "execution_count": 16,
     "metadata": {},
     "output_type": "execute_result"
    }
   ],
   "source": [
    "df2_raw = alldf_raw.loc[alldf_raw['Owner'] == alldf_raw['Player']]\n",
    "del df2_raw['Owner']\n",
    "df2_raw"
   ],
   "metadata": {
    "collapsed": false,
    "pycharm": {
     "name": "#%%\n"
    }
   }
  },
  {
   "cell_type": "code",
   "execution_count": 17,
   "outputs": [],
   "source": [
    "# which owners\n",
    "owners = df_raw['Owner'].unique()\n",
    "#print(owners.tolist())\n",
    "\n",
    "# which players\n",
    "players = df_raw['Player'].unique()\n",
    "\n",
    "# which guesses\n",
    "guess = df_raw['Guess'].unique()\n",
    "#print(guess.tolist())"
   ],
   "metadata": {
    "collapsed": false,
    "pycharm": {
     "name": "#%%\n"
    }
   }
  },
  {
   "cell_type": "code",
   "execution_count": 18,
   "outputs": [
    {
     "data": {
      "text/plain": "    Guess  votes\n0  Fact 1      5\n1  Fact 3      5\n2  Fact 2      2",
      "text/html": "<div>\n<style scoped>\n    .dataframe tbody tr th:only-of-type {\n        vertical-align: middle;\n    }\n\n    .dataframe tbody tr th {\n        vertical-align: top;\n    }\n\n    .dataframe thead th {\n        text-align: right;\n    }\n</style>\n<table border=\"1\" class=\"dataframe\">\n  <thead>\n    <tr style=\"text-align: right;\">\n      <th></th>\n      <th>Guess</th>\n      <th>votes</th>\n    </tr>\n  </thead>\n  <tbody>\n    <tr>\n      <th>0</th>\n      <td>Fact 1</td>\n      <td>5</td>\n    </tr>\n    <tr>\n      <th>1</th>\n      <td>Fact 3</td>\n      <td>5</td>\n    </tr>\n    <tr>\n      <th>2</th>\n      <td>Fact 2</td>\n      <td>2</td>\n    </tr>\n  </tbody>\n</table>\n</div>"
     },
     "execution_count": 18,
     "metadata": {},
     "output_type": "execute_result"
    }
   ],
   "source": [
    "# how often each fact was voted for\n",
    "total_votes = create_leaderboard(df_raw,'Guess','votes')\n",
    "total_votes = total_votes.sort_values(\"votes\", ascending=False).reset_index()\n",
    "total_votes.rename(columns = {'index':'Guess'}, inplace = True)\n",
    "total_votes\n",
    "#total_votes['votes'] = pd.to_numeric(total_votes['votes'])"
   ],
   "metadata": {
    "collapsed": false,
    "pycharm": {
     "name": "#%%\n"
    }
   }
  },
  {
   "cell_type": "code",
   "execution_count": 19,
   "outputs": [
    {
     "data": {
      "text/plain": "    Guess  votes\n0  Fact 1      3\n1  Fact 2      1",
      "text/html": "<div>\n<style scoped>\n    .dataframe tbody tr th:only-of-type {\n        vertical-align: middle;\n    }\n\n    .dataframe tbody tr th {\n        vertical-align: top;\n    }\n\n    .dataframe thead th {\n        text-align: right;\n    }\n</style>\n<table border=\"1\" class=\"dataframe\">\n  <thead>\n    <tr style=\"text-align: right;\">\n      <th></th>\n      <th>Guess</th>\n      <th>votes</th>\n    </tr>\n  </thead>\n  <tbody>\n    <tr>\n      <th>0</th>\n      <td>Fact 1</td>\n      <td>3</td>\n    </tr>\n    <tr>\n      <th>1</th>\n      <td>Fact 2</td>\n      <td>1</td>\n    </tr>\n  </tbody>\n</table>\n</div>"
     },
     "execution_count": 19,
     "metadata": {},
     "output_type": "execute_result"
    }
   ],
   "source": [
    "# how often each fact was chosen for\n",
    "fact_choice = create_leaderboard(df2_raw,'Guess','votes')\n",
    "fact_choice = fact_choice.sort_values(\"votes\", ascending=False).reset_index()\n",
    "fact_choice.rename(columns = {'index':'Guess'}, inplace = True)\n",
    "fact_choice\n",
    "#total_votes"
   ],
   "metadata": {
    "collapsed": false,
    "pycharm": {
     "name": "#%%\n"
    }
   }
  },
  {
   "cell_type": "code",
   "execution_count": 20,
   "outputs": [
    {
     "data": {
      "text/plain": "     Owner   Guess  votes\n0  Player2  Fact 3      2\n1  Player3  Fact 1      2\n2  Player4  Fact 3      2\n3  Player1  Fact 1      1\n4  Player1  Fact 2      1\n5  Player1  Fact 3      1\n6  Player2  Fact 1      1\n7  Player3  Fact 2      1\n8  Player4  Fact 1      1",
      "text/html": "<div>\n<style scoped>\n    .dataframe tbody tr th:only-of-type {\n        vertical-align: middle;\n    }\n\n    .dataframe tbody tr th {\n        vertical-align: top;\n    }\n\n    .dataframe thead th {\n        text-align: right;\n    }\n</style>\n<table border=\"1\" class=\"dataframe\">\n  <thead>\n    <tr style=\"text-align: right;\">\n      <th></th>\n      <th>Owner</th>\n      <th>Guess</th>\n      <th>votes</th>\n    </tr>\n  </thead>\n  <tbody>\n    <tr>\n      <th>0</th>\n      <td>Player2</td>\n      <td>Fact 3</td>\n      <td>2</td>\n    </tr>\n    <tr>\n      <th>1</th>\n      <td>Player3</td>\n      <td>Fact 1</td>\n      <td>2</td>\n    </tr>\n    <tr>\n      <th>2</th>\n      <td>Player4</td>\n      <td>Fact 3</td>\n      <td>2</td>\n    </tr>\n    <tr>\n      <th>3</th>\n      <td>Player1</td>\n      <td>Fact 1</td>\n      <td>1</td>\n    </tr>\n    <tr>\n      <th>4</th>\n      <td>Player1</td>\n      <td>Fact 2</td>\n      <td>1</td>\n    </tr>\n    <tr>\n      <th>5</th>\n      <td>Player1</td>\n      <td>Fact 3</td>\n      <td>1</td>\n    </tr>\n    <tr>\n      <th>6</th>\n      <td>Player2</td>\n      <td>Fact 1</td>\n      <td>1</td>\n    </tr>\n    <tr>\n      <th>7</th>\n      <td>Player3</td>\n      <td>Fact 2</td>\n      <td>1</td>\n    </tr>\n    <tr>\n      <th>8</th>\n      <td>Player4</td>\n      <td>Fact 1</td>\n      <td>1</td>\n    </tr>\n  </tbody>\n</table>\n</div>"
     },
     "execution_count": 20,
     "metadata": {},
     "output_type": "execute_result"
    }
   ],
   "source": [
    "# stats of guesses per URL\n",
    "guess_stats = df_raw.groupby(by=['Owner', 'Guess'])['Player'].count()\n",
    "s = pd.Series(guess_stats, name=\"votes\")\n",
    "df_guess = s.to_frame().sort_values(\"votes\", ascending=False).reset_index()\n",
    "df_guess\n"
   ],
   "metadata": {
    "collapsed": false,
    "pycharm": {
     "name": "#%%\n"
    }
   }
  }
 ],
 "metadata": {
  "kernelspec": {
   "display_name": "Python 3",
   "language": "python",
   "name": "python3"
  },
  "language_info": {
   "codemirror_mode": {
    "name": "ipython",
    "version": 2
   },
   "file_extension": ".py",
   "mimetype": "text/x-python",
   "name": "python",
   "nbconvert_exporter": "python",
   "pygments_lexer": "ipython2",
   "version": "2.7.6"
  }
 },
 "nbformat": 4,
 "nbformat_minor": 0
}