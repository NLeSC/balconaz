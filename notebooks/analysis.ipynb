{
 "cells": [
  {
   "cell_type": "code",
   "execution_count": 1,
   "outputs": [],
   "source": [
    "%load_ext autoreload\n",
    "%autoreload"
   ],
   "metadata": {
    "collapsed": false,
    "pycharm": {
     "name": "#%%\n"
    }
   }
  },
  {
   "cell_type": "markdown",
   "source": [
    "# Statistics\n",
    "\n",
    "This notebook contains plots and other code to explore guesses of the players of the game.\n",
    "\n",
    "### Table of Content:\n",
    "\n",
    "* ['Guesses' stats](#guess-stats)\n",
    "* [Ground truth related stats](#ground-truth-stats)\n"
   ],
   "metadata": {
    "collapsed": false
   }
  },
  {
   "cell_type": "code",
   "execution_count": 2,
   "metadata": {
    "collapsed": true
   },
   "outputs": [],
   "source": [
    "import pandas as pd\n",
    "\n",
    "import matplotlib.pyplot as plt\n",
    "import numpy as np\n",
    "%run ./prepare_data.ipynb\n",
    "\n",
    "\n"
   ]
  },
  {
   "cell_type": "markdown",
   "source": [
    "\n",
    "\n",
    "## <a class=\"anchor\" id=\"guess-stats\">Guesses stats</a>\n",
    "\n",
    "### Most popular and least votes"
   ],
   "metadata": {
    "collapsed": false
   }
  },
  {
   "cell_type": "code",
   "execution_count": 3,
   "outputs": [],
   "source": [
    "# trim the long url string for readibility\n",
    "def trim_url(df, df_idx, str_lst):\n",
    "    df_simple = df.copy()\n",
    "    for s in str_lst:\n",
    "        df_simple[df_idx] = df_simple[df_idx].str.replace(s, '')\n",
    "    return df_simple\n",
    "\n",
    "#def highlight_rows(df,v):\n",
    "#    if df.col > v:\n",
    "#        return ['background-color: yellow']*df.shape[1]\n",
    "#    else:\n",
    "#        return ['background-color: white']*df.shape[1]\n",
    "#df_guess_simple.style.apply(highlight_rows(0), axis=1)"
   ],
   "metadata": {
    "collapsed": false,
    "pycharm": {
     "name": "#%%\n"
    }
   }
  },
  {
   "cell_type": "code",
   "execution_count": 4,
   "outputs": [
    {
     "name": "stdout",
     "output_type": "stream",
     "text": [
      "    Current URL         Guess  votes\n",
      "0   T5tGEv9cegY          Фуад      6\n",
      "1   nszMBbCZKo4  Ali Huseynov      6\n",
      "2   H9Z3_ifFheQ       Kamusik      6\n",
      "3   yawlrsRDabA          Фуад      6\n",
      "4   AxLH0lXEGAY         Girey      4\n",
      "5   T8b2p9NWjdM         Aslan      4\n",
      "6   9pBmkOB1P8U         Aslan      4\n",
      "7   J3eeh15GXj0       Alesker      4\n",
      "8   GipD4SbJaD0          Zaur      4\n",
      "9   90cyDLcU-3g       Kamusik      4\n",
      "10  T8b2p9NWjdM          Zaur      3\n",
      "11  J3eeh15GXj0          Emin      3\n",
      "12  GipD4SbJaD0          Emin      3\n",
      "13  6ybd5rbQ5rU         Aslan      3\n",
      "14  yawlrsRDabA         Girey      3\n",
      "15  6ybd5rbQ5rU       Alesker      3\n",
      "16  9pBmkOB1P8U       Alesker      3\n",
      "17  6ybd5rbQ5rU          Emin      3\n",
      "18  nszMBbCZKo4          Фуад      2\n",
      "19  90cyDLcU-3g         Ирада      2\n",
      "20  GipD4SbJaD0  Ali Huseynov      2\n",
      "21  J3eeh15GXj0          Zaur      2\n",
      "22  AxLH0lXEGAY          Zaur      2\n",
      "23  H9Z3_ifFheQ        Rena A      2\n",
      "24  9pBmkOB1P8U        Rena A      2\n",
      "25  90cyDLcU-3g        Rena A      2\n",
      "26  6ybd5rbQ5rU       Kamusik      1\n",
      "27  T8b2p9NWjdM       Rena B.      1\n",
      "28  T8b2p9NWjdM        Rena A      1\n",
      "29  6ybd5rbQ5rU       Rena B.      1\n",
      "30  J3eeh15GXj0         Ирада      1\n",
      "31  T8b2p9NWjdM         Ирада      1\n",
      "32  nszMBbCZKo4         Girey      1\n",
      "33  J3eeh15GXj0       Rena B.      1\n",
      "34  nszMBbCZKo4        Rena A      1\n",
      "35  nszMBbCZKo4          Zaur      1\n",
      "36  9pBmkOB1P8U         Girey      1\n",
      "37  H9Z3_ifFheQ          Zaur      1\n",
      "38  H9Z3_ifFheQ       Rena B.      1\n",
      "39  T8b2p9NWjdM         Girey      1\n",
      "40  yawlrsRDabA          Emin      1\n",
      "41  H9Z3_ifFheQ       Alesker      1\n",
      "42  T5tGEv9cegY       Rena B.      1\n",
      "43  yawlrsRDabA       Rena B.      1\n",
      "44  T5tGEv9cegY       Kamusik      1\n",
      "45  90cyDLcU-3g       Alesker      1\n",
      "46  90cyDLcU-3g         Girey      1\n",
      "47  T5tGEv9cegY         Girey      1\n",
      "48  90cyDLcU-3g       Rena B.      1\n",
      "49  AxLH0lXEGAY  Ali Huseynov      1\n",
      "50  AxLH0lXEGAY         Aslan      1\n",
      "51  AxLH0lXEGAY          Emin      1\n",
      "52  T5tGEv9cegY         Aslan      1\n",
      "53  AxLH0lXEGAY       Kamusik      1\n",
      "54  AxLH0lXEGAY         Ирада      1\n",
      "55  GipD4SbJaD0       Alesker      1\n",
      "56  T5tGEv9cegY       Alesker      1\n",
      "57  9pBmkOB1P8U         Ирада      1\n",
      "58  GipD4SbJaD0         Ирада      1\n"
     ]
    }
   ],
   "source": [
    "yt_str = ['^[^_]*=','https://youtu.be/']\n",
    "\n",
    "#print all votes\n",
    "if ((df_guess['Current URL']).apply(len).max(axis=0) > 10):\n",
    "    df_guess_simple = trim_url(df_guess,'Current URL',yt_str)\n",
    "else:\n",
    "    df_guess_simple = df_guess\n",
    "with pd.option_context('display.max_rows', None, 'display.max_columns', None):  # printing all, more options can be specified also\n",
    "    print(df_guess_simple)\n",
    "\n"
   ],
   "metadata": {
    "collapsed": false,
    "pycharm": {
     "name": "#%%\n"
    }
   }
  },
  {
   "cell_type": "markdown",
   "source": [
    "## <a class=\"anchor\" id=\"ground-truth-stats\">Ground truth related stats </a>\n",
    "\n",
    "First, we compute the intersection between players/url column of ground truth df and guesses/url column of guess df, for all URLs.\n",
    "Note that one guess is inherently incorrect (by the rules of the game).\n",
    "\n"
   ],
   "metadata": {
    "collapsed": false
   }
  },
  {
   "cell_type": "code",
   "execution_count": 5,
   "outputs": [
    {
     "name": "stdout",
     "output_type": "stream",
     "text": [
      "           URL        Player    Guess\n",
      "0  AxLH0lXEGAY          Zaur     Emin\n",
      "1  H9Z3_ifFheQ         Girey  Alesker\n",
      "2  6ybd5rbQ5rU         Girey  Rena B.\n",
      "3  T8b2p9NWjdM         Girey   Rena A\n",
      "4  nszMBbCZKo4          Emin     Zaur\n",
      "5  9pBmkOB1P8U         Ирада    Girey\n",
      "6  90cyDLcU-3g          Zaur  Kamusik\n",
      "7  90cyDLcU-3g  Ali Huseynov  Kamusik\n",
      "8  90cyDLcU-3g         Girey  Kamusik\n",
      "9  90cyDLcU-3g         Ирада  Kamusik\n"
     ]
    }
   ],
   "source": [
    "# Correct guesses\n",
    "correct_guess_df = pd.merge(df_raw,df2_raw, how='inner', left_on=['Current URL', 'Guess'], right_on=['URL','Player'])\n",
    "#del correct_guess_df['Player_y'], correct_guess_df['URL']\n",
    "correct_guess_df = correct_guess_df.drop(['Player_y', 'URL'], axis = 1)\n",
    "correct_guess_df.rename(columns = {'Player_x':'Player','Current URL':'URL'}, inplace = True)\n",
    "\n",
    "correct_guess_simple = trim_url(correct_guess_df, 'URL', yt_str)\n",
    "print(correct_guess_simple)\n"
   ],
   "metadata": {
    "collapsed": false,
    "pycharm": {
     "name": "#%%\n"
    }
   }
  },
  {
   "cell_type": "code",
   "execution_count": 6,
   "outputs": [
    {
     "name": "stdout",
     "output_type": "stream",
     "text": [
      "          Player  Guess\n",
      "0        Rena B.    0.0\n",
      "1          Aslan    0.0\n",
      "2   Ali Huseynov    1.0\n",
      "3          Ирада    2.0\n",
      "4          Girey    4.0\n",
      "5           Фуад    0.0\n",
      "6         Rena A    0.0\n",
      "7        Alesker    0.0\n",
      "8           Zaur    2.0\n",
      "9           Emin    1.0\n",
      "10       Kamusik    0.0\n"
     ]
    }
   ],
   "source": [
    "# Correct guesses per player\n",
    "#TODO: display this better\n",
    "\n",
    "corr_guess_stats = correct_guess_df.groupby(by=['Player'])['Guess'].count()\n",
    "corr_guess_stats = pd.merge(df2_raw, corr_guess_stats, on='Player',how='left').fillna(0)\n",
    "del corr_guess_stats['URL']\n",
    "print(corr_guess_stats)"
   ],
   "metadata": {
    "collapsed": false,
    "pycharm": {
     "name": "#%%\n"
    }
   }
  },
  {
   "cell_type": "code",
   "execution_count": 7,
   "outputs": [
    {
     "name": "stdout",
     "output_type": "stream",
     "text": [
      "          Player  Guess\n",
      "0        Rena B.      1\n",
      "1          Aslan      0\n",
      "2   Ali Huseynov      0\n",
      "3          Ирада      0\n",
      "4          Girey      1\n",
      "5           Фуад      0\n",
      "6         Rena A      1\n",
      "7        Alesker      1\n",
      "8           Zaur      1\n",
      "9           Emin      1\n",
      "10       Kamusik      4\n"
     ]
    }
   ],
   "source": [
    "# Best and worst guessed players\n",
    "#TODO: display this better\n",
    "\n",
    "corr_player_stats = correct_guess_df.groupby(by=['URL'])['Guess'].count()\n",
    "corr_player_stats = pd.merge(df2_raw, corr_player_stats, on='URL',how='left').fillna(0)\n",
    "del corr_player_stats['URL']\n",
    "#corr_player_stats['Guess'] = pd.to_numeric(corr_player_stats['Guess'])\n",
    "corr_player_stats['Guess'] = corr_player_stats['Guess'].values.astype(int)\n",
    "print(corr_player_stats)"
   ],
   "metadata": {
    "collapsed": false,
    "pycharm": {
     "name": "#%%\n"
    }
   }
  },
  {
   "cell_type": "code",
   "execution_count": 8,
   "outputs": [
    {
     "name": "stdout",
     "output_type": "stream",
     "text": [
      "          Player  votes\n",
      "0        Alesker     14\n",
      "1           Фуад     14\n",
      "2        Kamusik     13\n",
      "3           Zaur     13\n",
      "4          Aslan     13\n",
      "5          Girey     12\n",
      "6           Emin     11\n",
      "7   Ali Huseynov      9\n",
      "8         Rena A      8\n",
      "9          Ирада      7\n",
      "10       Rena B.      7\n"
     ]
    }
   ],
   "source": [
    "with pd.option_context('display.max_rows', None, 'display.max_columns', None):  # printing all, more options can be specified also\n",
    "    print(total_votes)\n"
   ],
   "metadata": {
    "collapsed": false,
    "pycharm": {
     "name": "#%%\n"
    }
   }
  },
  {
   "cell_type": "code",
   "execution_count": 9,
   "outputs": [
    {
     "name": "stdout",
     "output_type": "stream",
     "text": [
      "          Player  votes\n",
      "0        Alesker     13\n",
      "1           Фуад     14\n",
      "2        Kamusik      9\n",
      "3           Zaur     12\n",
      "4          Aslan     13\n",
      "5          Girey     11\n",
      "6           Emin     10\n",
      "7   Ali Huseynov      9\n",
      "8         Rena A      7\n",
      "9          Ирада      7\n",
      "10       Rena B.      6\n"
     ]
    }
   ],
   "source": [
    "def subtract(df1,df2,col_idx,col_minuend,col_subth):\n",
    "    wrong_votes = pd.merge(df1,df2, on=[col_idx])\n",
    "    wrong_votes[\"delta\"] = (wrong_votes[col_minuend]) - wrong_votes[col_subth]\n",
    "    wrong_votes = wrong_votes.drop([col_minuend, col_subth], axis = 1)\n",
    "    wrong_votes.rename(columns = {'delta':col_minuend}, inplace = True)\n",
    "    return wrong_votes\n",
    "\n",
    "wrong_votes = subtract(total_votes,corr_player_stats,'Player','votes','Guess')\n",
    "print(wrong_votes)"
   ],
   "metadata": {
    "collapsed": false,
    "pycharm": {
     "name": "#%%\n"
    }
   }
  }
 ],
 "metadata": {
  "kernelspec": {
   "display_name": "Python 3",
   "language": "python",
   "name": "python3"
  },
  "language_info": {
   "codemirror_mode": {
    "name": "ipython",
    "version": 2
   },
   "file_extension": ".py",
   "mimetype": "text/x-python",
   "name": "python",
   "nbconvert_exporter": "python",
   "pygments_lexer": "ipython2",
   "version": "2.7.6"
  }
 },
 "nbformat": 4,
 "nbformat_minor": 0
}