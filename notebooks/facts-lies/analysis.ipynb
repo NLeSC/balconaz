{
 "cells": [
  {
   "cell_type": "code",
   "execution_count": 11,
   "metadata": {
    "collapsed": true
   },
   "outputs": [
    {
     "name": "stdout",
     "output_type": "stream",
     "text": [
      "The autoreload extension is already loaded. To reload it, use:\n",
      "  %reload_ext autoreload\n"
     ]
    }
   ],
   "source": [
    "%load_ext autoreload\n",
    "%autoreload"
   ]
  },
  {
   "cell_type": "markdown",
   "source": [
    "# Statistics\n",
    "\n",
    "This notebook contains plots and other code to explore guesses of the players of the game.\n",
    "\n",
    "### Table of Content:\n",
    "\n",
    "* ['Guesses' stats](#guess-stats)\n",
    "* [Ground truth related stats](#ground-truth-stats)\n"
   ],
   "metadata": {
    "collapsed": false
   }
  },
  {
   "cell_type": "code",
   "execution_count": 12,
   "outputs": [],
   "source": [
    "import pandas as pd\n",
    "\n",
    "import matplotlib.pyplot as plt\n",
    "import numpy as np\n",
    "%run ./prepare_data.ipynb\n",
    "from utils.aux_func import create_leaderboard\n"
   ],
   "metadata": {
    "collapsed": false,
    "pycharm": {
     "name": "#%%\n"
    }
   }
  },
  {
   "cell_type": "code",
   "execution_count": 13,
   "outputs": [
    {
     "data": {
      "text/plain": "     Owner   Player   Guess\n0  Player1  Player3  Fact 1\n1  Player3  Player1  Fact 1\n2  Player3  Player2  Fact 1\n3  Player4  Player3  Fact 1",
      "text/html": "<div>\n<style scoped>\n    .dataframe tbody tr th:only-of-type {\n        vertical-align: middle;\n    }\n\n    .dataframe tbody tr th {\n        vertical-align: top;\n    }\n\n    .dataframe thead th {\n        text-align: right;\n    }\n</style>\n<table border=\"1\" class=\"dataframe\">\n  <thead>\n    <tr style=\"text-align: right;\">\n      <th></th>\n      <th>Owner</th>\n      <th>Player</th>\n      <th>Guess</th>\n    </tr>\n  </thead>\n  <tbody>\n    <tr>\n      <th>0</th>\n      <td>Player1</td>\n      <td>Player3</td>\n      <td>Fact 1</td>\n    </tr>\n    <tr>\n      <th>1</th>\n      <td>Player3</td>\n      <td>Player1</td>\n      <td>Fact 1</td>\n    </tr>\n    <tr>\n      <th>2</th>\n      <td>Player3</td>\n      <td>Player2</td>\n      <td>Fact 1</td>\n    </tr>\n    <tr>\n      <th>3</th>\n      <td>Player4</td>\n      <td>Player3</td>\n      <td>Fact 1</td>\n    </tr>\n  </tbody>\n</table>\n</div>"
     },
     "execution_count": 13,
     "metadata": {},
     "output_type": "execute_result"
    }
   ],
   "source": [
    "# Correct guesses\n",
    "correct_guess_df = pd.merge(df_raw,df2_raw, how='inner', left_on=['Owner', 'Guess'], right_on=['Player','Guess'])\n",
    "#del correct_guess_df['Player_y'], correct_guess_df['URL']\n",
    "correct_guess_df = correct_guess_df.drop(['Player_y'], axis = 1)\n",
    "correct_guess_df.rename(columns = {'Player_x':'Player'}, inplace = True)\n",
    "\n",
    "correct_guess_df.head()"
   ],
   "metadata": {
    "collapsed": false,
    "pycharm": {
     "name": "#%%\n"
    }
   }
  },
  {
   "cell_type": "code",
   "execution_count": 14,
   "outputs": [
    {
     "data": {
      "text/plain": "         votes\nPlayer3      2\nPlayer2      1\nPlayer1      1",
      "text/html": "<div>\n<style scoped>\n    .dataframe tbody tr th:only-of-type {\n        vertical-align: middle;\n    }\n\n    .dataframe tbody tr th {\n        vertical-align: top;\n    }\n\n    .dataframe thead th {\n        text-align: right;\n    }\n</style>\n<table border=\"1\" class=\"dataframe\">\n  <thead>\n    <tr style=\"text-align: right;\">\n      <th></th>\n      <th>votes</th>\n    </tr>\n  </thead>\n  <tbody>\n    <tr>\n      <th>Player3</th>\n      <td>2</td>\n    </tr>\n    <tr>\n      <th>Player2</th>\n      <td>1</td>\n    </tr>\n    <tr>\n      <th>Player1</th>\n      <td>1</td>\n    </tr>\n  </tbody>\n</table>\n</div>"
     },
     "execution_count": 14,
     "metadata": {},
     "output_type": "execute_result"
    }
   ],
   "source": [
    "# Correct guesses per player\n",
    "corr_guess_stats = create_leaderboard(correct_guess_df,'Player','votes')\n",
    "corr_guess_stats"
   ],
   "metadata": {
    "collapsed": false,
    "pycharm": {
     "name": "#%%\n"
    }
   }
  },
  {
   "cell_type": "code",
   "execution_count": 15,
   "outputs": [
    {
     "data": {
      "text/plain": "         votes\nPlayer3      2\nPlayer4      1\nPlayer1      1",
      "text/html": "<div>\n<style scoped>\n    .dataframe tbody tr th:only-of-type {\n        vertical-align: middle;\n    }\n\n    .dataframe tbody tr th {\n        vertical-align: top;\n    }\n\n    .dataframe thead th {\n        text-align: right;\n    }\n</style>\n<table border=\"1\" class=\"dataframe\">\n  <thead>\n    <tr style=\"text-align: right;\">\n      <th></th>\n      <th>votes</th>\n    </tr>\n  </thead>\n  <tbody>\n    <tr>\n      <th>Player3</th>\n      <td>2</td>\n    </tr>\n    <tr>\n      <th>Player4</th>\n      <td>1</td>\n    </tr>\n    <tr>\n      <th>Player1</th>\n      <td>1</td>\n    </tr>\n  </tbody>\n</table>\n</div>"
     },
     "execution_count": 15,
     "metadata": {},
     "output_type": "execute_result"
    }
   ],
   "source": [
    "# Best and worst guessed players\n",
    "corr_player_stats = create_leaderboard(correct_guess_df,'Owner','votes')\n",
    "corr_player_stats"
   ],
   "metadata": {
    "collapsed": false,
    "pycharm": {
     "name": "#%%\n"
    }
   }
  }
 ],
 "metadata": {
  "kernelspec": {
   "display_name": "Python 3",
   "language": "python",
   "name": "python3"
  },
  "language_info": {
   "codemirror_mode": {
    "name": "ipython",
    "version": 2
   },
   "file_extension": ".py",
   "mimetype": "text/x-python",
   "name": "python",
   "nbconvert_exporter": "python",
   "pygments_lexer": "ipython2",
   "version": "2.7.6"
  }
 },
 "nbformat": 4,
 "nbformat_minor": 0
}