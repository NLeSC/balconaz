{
 "cells": [
  {
   "cell_type": "code",
   "execution_count": 16,
   "metadata": {
    "collapsed": true
   },
   "outputs": [],
   "source": [
    "import pandas as pd\n",
    "import os"
   ]
  },
  {
   "cell_type": "code",
   "execution_count": 18,
   "outputs": [],
   "source": [
    "# NB: Don't forget to run all the scripts prior to this step.\n",
    "# Load all inputs\n",
    "df_raw = pd.read_csv('../data/randomized_data-test.csv') #,error_bad_lines=False)"
   ],
   "metadata": {
    "collapsed": false,
    "pycharm": {
     "name": "#%%\n"
    }
   }
  },
  {
   "cell_type": "code",
   "execution_count": 19,
   "outputs": [
    {
     "data": {
      "text/plain": "                      Timestamp Current URL   Player     Guess\n0  2021/01/14 11:20:26 PM GMT+1       URL11  Player1   Player2\n1  2021/01/14 11:21:25 PM GMT+1       URL11  Player2  Player10\n2  2021/01/14 11:21:45 PM GMT+1       URL11  Player7   Player1\n3  2021/01/14 11:22:01 PM GMT+1       URL11  Player8  Player11\n4  2021/01/14 11:22:21 PM GMT+1       URL11  Player6   Player1",
      "text/html": "<div>\n<style scoped>\n    .dataframe tbody tr th:only-of-type {\n        vertical-align: middle;\n    }\n\n    .dataframe tbody tr th {\n        vertical-align: top;\n    }\n\n    .dataframe thead th {\n        text-align: right;\n    }\n</style>\n<table border=\"1\" class=\"dataframe\">\n  <thead>\n    <tr style=\"text-align: right;\">\n      <th></th>\n      <th>Timestamp</th>\n      <th>Current URL</th>\n      <th>Player</th>\n      <th>Guess</th>\n    </tr>\n  </thead>\n  <tbody>\n    <tr>\n      <th>0</th>\n      <td>2021/01/14 11:20:26 PM GMT+1</td>\n      <td>URL11</td>\n      <td>Player1</td>\n      <td>Player2</td>\n    </tr>\n    <tr>\n      <th>1</th>\n      <td>2021/01/14 11:21:25 PM GMT+1</td>\n      <td>URL11</td>\n      <td>Player2</td>\n      <td>Player10</td>\n    </tr>\n    <tr>\n      <th>2</th>\n      <td>2021/01/14 11:21:45 PM GMT+1</td>\n      <td>URL11</td>\n      <td>Player7</td>\n      <td>Player1</td>\n    </tr>\n    <tr>\n      <th>3</th>\n      <td>2021/01/14 11:22:01 PM GMT+1</td>\n      <td>URL11</td>\n      <td>Player8</td>\n      <td>Player11</td>\n    </tr>\n    <tr>\n      <th>4</th>\n      <td>2021/01/14 11:22:21 PM GMT+1</td>\n      <td>URL11</td>\n      <td>Player6</td>\n      <td>Player1</td>\n    </tr>\n  </tbody>\n</table>\n</div>"
     },
     "execution_count": 19,
     "metadata": {},
     "output_type": "execute_result"
    }
   ],
   "source": [
    "# check\n",
    "df_raw.head()"
   ],
   "metadata": {
    "collapsed": false,
    "pycharm": {
     "name": "#%%\n"
    }
   }
  },
  {
   "cell_type": "code",
   "execution_count": null,
   "outputs": [],
   "source": [],
   "metadata": {
    "collapsed": false,
    "pycharm": {
     "name": "#%%\n"
    }
   }
  }
 ],
 "metadata": {
  "kernelspec": {
   "display_name": "Python 3",
   "language": "python",
   "name": "python3"
  },
  "language_info": {
   "codemirror_mode": {
    "name": "ipython",
    "version": 2
   },
   "file_extension": ".py",
   "mimetype": "text/x-python",
   "name": "python",
   "nbconvert_exporter": "python",
   "pygments_lexer": "ipython2",
   "version": "2.7.6"
  }
 },
 "nbformat": 4,
 "nbformat_minor": 0
}